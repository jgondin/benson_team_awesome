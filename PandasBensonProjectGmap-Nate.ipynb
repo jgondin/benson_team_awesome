{
 "cells": [
  {
   "cell_type": "code",
   "execution_count": 6,
   "metadata": {
    "collapsed": true
   },
   "outputs": [],
   "source": [
    "import pandas as pd\n",
    "from __future__ import division\n",
    "import csv\n",
    "from datetime import datetime\n",
    "from collections import Counter"
   ]
  },
  {
   "cell_type": "code",
   "execution_count": 7,
   "metadata": {
    "collapsed": true
   },
   "outputs": [],
   "source": [
    "import matplotlib.pyplot as plt"
   ]
  },
  {
   "cell_type": "markdown",
   "metadata": {},
   "source": [
    "import stuff"
   ]
  },
  {
   "cell_type": "code",
   "execution_count": 8,
   "metadata": {
    "collapsed": true
   },
   "outputs": [],
   "source": [
    "data = pd.read_csv('http://web.mta.info/developers/data/nyct/turnstile/turnstile_160402.txt')"
   ]
  },
  {
   "cell_type": "code",
   "execution_count": 9,
   "metadata": {
    "collapsed": false
   },
   "outputs": [
    {
     "data": {
      "text/html": [
       "<div>\n",
       "<table border=\"1\" class=\"dataframe\">\n",
       "  <thead>\n",
       "    <tr style=\"text-align: right;\">\n",
       "      <th></th>\n",
       "      <th>C/A</th>\n",
       "      <th>UNIT</th>\n",
       "      <th>SCP</th>\n",
       "      <th>STATION</th>\n",
       "      <th>LINENAME</th>\n",
       "      <th>DIVISION</th>\n",
       "      <th>DATE</th>\n",
       "      <th>TIME</th>\n",
       "      <th>DESC</th>\n",
       "      <th>ENTRIES</th>\n",
       "      <th>EXITS</th>\n",
       "    </tr>\n",
       "  </thead>\n",
       "  <tbody>\n",
       "    <tr>\n",
       "      <th>0</th>\n",
       "      <td>A002</td>\n",
       "      <td>R051</td>\n",
       "      <td>02-00-00</td>\n",
       "      <td>59 ST</td>\n",
       "      <td>NQR456</td>\n",
       "      <td>BMT</td>\n",
       "      <td>03/26/2016</td>\n",
       "      <td>00:00:00</td>\n",
       "      <td>REGULAR</td>\n",
       "      <td>5595746</td>\n",
       "      <td>1893277</td>\n",
       "    </tr>\n",
       "    <tr>\n",
       "      <th>1</th>\n",
       "      <td>A002</td>\n",
       "      <td>R051</td>\n",
       "      <td>02-00-00</td>\n",
       "      <td>59 ST</td>\n",
       "      <td>NQR456</td>\n",
       "      <td>BMT</td>\n",
       "      <td>03/26/2016</td>\n",
       "      <td>04:00:00</td>\n",
       "      <td>REGULAR</td>\n",
       "      <td>5595746</td>\n",
       "      <td>1893282</td>\n",
       "    </tr>\n",
       "    <tr>\n",
       "      <th>2</th>\n",
       "      <td>A002</td>\n",
       "      <td>R051</td>\n",
       "      <td>02-00-00</td>\n",
       "      <td>59 ST</td>\n",
       "      <td>NQR456</td>\n",
       "      <td>BMT</td>\n",
       "      <td>03/26/2016</td>\n",
       "      <td>08:00:00</td>\n",
       "      <td>REGULAR</td>\n",
       "      <td>5595746</td>\n",
       "      <td>1893282</td>\n",
       "    </tr>\n",
       "    <tr>\n",
       "      <th>3</th>\n",
       "      <td>A002</td>\n",
       "      <td>R051</td>\n",
       "      <td>02-00-00</td>\n",
       "      <td>59 ST</td>\n",
       "      <td>NQR456</td>\n",
       "      <td>BMT</td>\n",
       "      <td>03/26/2016</td>\n",
       "      <td>12:00:00</td>\n",
       "      <td>REGULAR</td>\n",
       "      <td>5595746</td>\n",
       "      <td>1893282</td>\n",
       "    </tr>\n",
       "    <tr>\n",
       "      <th>4</th>\n",
       "      <td>A002</td>\n",
       "      <td>R051</td>\n",
       "      <td>02-00-00</td>\n",
       "      <td>59 ST</td>\n",
       "      <td>NQR456</td>\n",
       "      <td>BMT</td>\n",
       "      <td>03/26/2016</td>\n",
       "      <td>16:00:00</td>\n",
       "      <td>REGULAR</td>\n",
       "      <td>5595746</td>\n",
       "      <td>1893282</td>\n",
       "    </tr>\n",
       "  </tbody>\n",
       "</table>\n",
       "</div>"
      ],
      "text/plain": [
       "    C/A  UNIT       SCP STATION LINENAME DIVISION        DATE      TIME  \\\n",
       "0  A002  R051  02-00-00   59 ST   NQR456      BMT  03/26/2016  00:00:00   \n",
       "1  A002  R051  02-00-00   59 ST   NQR456      BMT  03/26/2016  04:00:00   \n",
       "2  A002  R051  02-00-00   59 ST   NQR456      BMT  03/26/2016  08:00:00   \n",
       "3  A002  R051  02-00-00   59 ST   NQR456      BMT  03/26/2016  12:00:00   \n",
       "4  A002  R051  02-00-00   59 ST   NQR456      BMT  03/26/2016  16:00:00   \n",
       "\n",
       "      DESC  ENTRIES  \\\n",
       "0  REGULAR  5595746   \n",
       "1  REGULAR  5595746   \n",
       "2  REGULAR  5595746   \n",
       "3  REGULAR  5595746   \n",
       "4  REGULAR  5595746   \n",
       "\n",
       "   EXITS                                                                 \n",
       "0                                            1893277                     \n",
       "1                                            1893282                     \n",
       "2                                            1893282                     \n",
       "3                                            1893282                     \n",
       "4                                            1893282                     "
      ]
     },
     "execution_count": 9,
     "metadata": {},
     "output_type": "execute_result"
    }
   ],
   "source": [
    "data.head()"
   ]
  },
  {
   "cell_type": "markdown",
   "metadata": {},
   "source": [
    "read data in + merge data"
   ]
  },
  {
   "cell_type": "code",
   "execution_count": 10,
   "metadata": {
    "collapsed": true
   },
   "outputs": [],
   "source": [
    "data.columns = data.columns.str.replace(' ','')"
   ]
  },
  {
   "cell_type": "markdown",
   "metadata": {},
   "source": [
    "remove spaces from exits column"
   ]
  },
  {
   "cell_type": "code",
   "execution_count": 11,
   "metadata": {
    "collapsed": false
   },
   "outputs": [],
   "source": [
    "data[\"DATETIME\"] = data[\"DATE\"] + ' ' + data[\"TIME\"]"
   ]
  },
  {
   "cell_type": "code",
   "execution_count": 12,
   "metadata": {
    "collapsed": false
   },
   "outputs": [],
   "source": [
    "data['DATETIME'] = pd.to_datetime(data.DATETIME, format='%m/%d/%Y %H:%M:%S')"
   ]
  },
  {
   "cell_type": "markdown",
   "metadata": {},
   "source": [
    "create datetime and set format"
   ]
  },
  {
   "cell_type": "code",
   "execution_count": 13,
   "metadata": {
    "collapsed": true
   },
   "outputs": [],
   "source": [
    "data['HOUR'] = data.DATETIME.apply(lambda x: x.hour)"
   ]
  },
  {
   "cell_type": "code",
   "execution_count": 14,
   "metadata": {
    "collapsed": true
   },
   "outputs": [],
   "source": [
    "data['WEEKDAY']=data.DATETIME.apply(lambda x: 'Weekday' if 0<=x.weekday()<5 else 'Weekend')\n",
    "\n",
    "#same as above in 2 steps\n",
    "#weekdaycheck = lambda x: 'Weekday' if 0<=x.weekday()<5 else 'Weekend'\n",
    "#data['WEEKDAY']=data.DATETIME.apply(weekdaycheck)\n"
   ]
  },
  {
   "cell_type": "code",
   "execution_count": 15,
   "metadata": {
    "collapsed": true
   },
   "outputs": [],
   "source": [
    "daysofweek = ['Monday','Tuesday','Wednesday','Thursday','Friday','Saturday','Sunday']\n",
    "\n",
    "whatdayofweek = lambda x: daysofweek[x.weekday()]\n",
    "\n",
    "\n",
    "data['DAYOFWEEK'] = data.DATETIME.apply(whatdayofweek)\n",
    "#data['DAYOFWEEKVALUE'] = data.DATETIME.apply(dayofweekvalue)"
   ]
  },
  {
   "cell_type": "markdown",
   "metadata": {},
   "source": [
    "create day of week by applying function to DATETIME"
   ]
  },
  {
   "cell_type": "code",
   "execution_count": 16,
   "metadata": {
    "collapsed": false
   },
   "outputs": [],
   "source": [
    "data['dENTRIES'] = data.ENTRIES.shift(-1) - data.ENTRIES\n",
    "data['dEXITS'] = data.EXITS.shift(-1) - data.EXITS\n",
    "data['dTOTAL'] = data.dENTRIES+ data.dEXITS\n",
    "\n",
    "###for considering deltas as time(i+1)-time(i)"
   ]
  },
  {
   "cell_type": "markdown",
   "metadata": {},
   "source": [
    "create deltas by shifting from one above"
   ]
  },
  {
   "cell_type": "code",
   "execution_count": 17,
   "metadata": {
    "collapsed": true
   },
   "outputs": [],
   "source": [
    "#data['dENTRIES'] = data.ENTRIES - data.ENTRIES.shift(1)\n",
    "#data['dEXITS'] = data.EXITS - data.EXITS.shift(1)\n",
    "#data['dTOTAL'] = data.dENTRIES+ data.dEXITS\n",
    "\n",
    "###this is for considering deltas as time(i)-time(i-1)"
   ]
  },
  {
   "cell_type": "code",
   "execution_count": 18,
   "metadata": {
    "collapsed": false
   },
   "outputs": [],
   "source": [
    "datatest = data[(data.HOUR ==0)|(data.HOUR ==1)]\n",
    "# same as mask"
   ]
  },
  {
   "cell_type": "markdown",
   "metadata": {},
   "source": [
    "filter based on time we care about"
   ]
  },
  {
   "cell_type": "code",
   "execution_count": 19,
   "metadata": {
    "collapsed": false
   },
   "outputs": [],
   "source": [
    "datatest2 = datatest[(datatest.dENTRIES >= 0) & (datatest.dENTRIES <=5000) & (datatest.dEXITS >= 0) & (datatest.dEXITS <=5000)]\n",
    "# mask2 = (datatest.dENTRIES >= 0) & (datatest.dENTRIES <=5000) & (datatest.dEXITS >= 0) & (datatest.dEXITS <=5000)\n"
   ]
  },
  {
   "cell_type": "markdown",
   "metadata": {},
   "source": [
    "filter a second time based on change in deltas to account for switching machine/station etc.  \n",
    "Lose out on 29835 - 29522 = 313 total entries  \n",
    "313 is 1.05% of our data that we lose"
   ]
  },
  {
   "cell_type": "code",
   "execution_count": 20,
   "metadata": {
    "collapsed": false
   },
   "outputs": [],
   "source": [
    "final_weekday_or_end = datatest2.groupby([datatest2.WEEKDAY, datatest2.STATION]).sum()"
   ]
  },
  {
   "cell_type": "code",
   "execution_count": 21,
   "metadata": {
    "collapsed": false
   },
   "outputs": [],
   "source": [
    "weekend_or_day_final =  (final_weekday_or_end\n",
    "    .reset_index()\n",
    "    .sort_values([\"WEEKDAY\", \"dTOTAL\"], ascending=[True, False])\n",
    ")"
   ]
  },
  {
   "cell_type": "code",
   "execution_count": 22,
   "metadata": {
    "collapsed": false
   },
   "outputs": [],
   "source": [
    "weekend_or_day_final = weekend_or_day_final.drop(['ENTRIES', 'EXITS', 'HOUR', 'dENTRIES', 'dEXITS'],1)"
   ]
  },
  {
   "cell_type": "code",
   "execution_count": 23,
   "metadata": {
    "collapsed": false
   },
   "outputs": [],
   "source": [
    "for r in range(weekend_or_day_final.shape[0]):\n",
    "    if weekend_or_day_final.ix[r,'WEEKDAY'] =='Weekday':\n",
    "        weekend_or_day_final.ix[r,'dTOTALACTUAL'] = weekend_or_day_final.ix[r, 'dTOTAL']/5\n",
    "    else:\n",
    "        weekend_or_day_final.ix[r,'dTOTALACTUAL'] = weekend_or_day_final.ix[r, 'dTOTAL']/2"
   ]
  },
  {
   "cell_type": "code",
   "execution_count": 24,
   "metadata": {
    "collapsed": false
   },
   "outputs": [],
   "source": [
    "weekend_or_day_final = weekend_or_day_final.drop(['dTOTAL'],1)\n"
   ]
  },
  {
   "cell_type": "code",
   "execution_count": 25,
   "metadata": {
    "collapsed": false
   },
   "outputs": [
    {
     "data": {
      "text/html": [
       "<div>\n",
       "<table border=\"1\" class=\"dataframe\">\n",
       "  <thead>\n",
       "    <tr style=\"text-align: right;\">\n",
       "      <th></th>\n",
       "      <th>WEEKDAY</th>\n",
       "      <th>STATION</th>\n",
       "      <th>dTOTALACTUAL</th>\n",
       "    </tr>\n",
       "  </thead>\n",
       "  <tbody>\n",
       "    <tr>\n",
       "      <th>345</th>\n",
       "      <td>Weekday</td>\n",
       "      <td>TIMES SQ-42 ST</td>\n",
       "      <td>3975.0</td>\n",
       "    </tr>\n",
       "    <tr>\n",
       "      <th>59</th>\n",
       "      <td>Weekday</td>\n",
       "      <td>34 ST-HERALD SQ</td>\n",
       "      <td>2582.4</td>\n",
       "    </tr>\n",
       "    <tr>\n",
       "      <th>251</th>\n",
       "      <td>Weekday</td>\n",
       "      <td>JKSN HT-ROOSVLT</td>\n",
       "      <td>2492.8</td>\n",
       "    </tr>\n",
       "    <tr>\n",
       "      <th>61</th>\n",
       "      <td>Weekday</td>\n",
       "      <td>34 ST-PENN STA</td>\n",
       "      <td>2447.4</td>\n",
       "    </tr>\n",
       "    <tr>\n",
       "      <th>9</th>\n",
       "      <td>Weekday</td>\n",
       "      <td>125 ST</td>\n",
       "      <td>2416.4</td>\n",
       "    </tr>\n",
       "  </tbody>\n",
       "</table>\n",
       "</div>"
      ],
      "text/plain": [
       "     WEEKDAY          STATION  dTOTALACTUAL\n",
       "345  Weekday   TIMES SQ-42 ST        3975.0\n",
       "59   Weekday  34 ST-HERALD SQ        2582.4\n",
       "251  Weekday  JKSN HT-ROOSVLT        2492.8\n",
       "61   Weekday   34 ST-PENN STA        2447.4\n",
       "9    Weekday           125 ST        2416.4"
      ]
     },
     "execution_count": 25,
     "metadata": {},
     "output_type": "execute_result"
    }
   ],
   "source": [
    "weekend_or_day_final.head()"
   ]
  },
  {
   "cell_type": "markdown",
   "metadata": {},
   "source": [
    "weekend_or_day_final is the FINAL dataframe for weekday vs weekend"
   ]
  },
  {
   "cell_type": "code",
   "execution_count": 26,
   "metadata": {
    "collapsed": false
   },
   "outputs": [],
   "source": [
    "finaldayofweek = datatest2.groupby([datatest2.DAYOFWEEK,datatest2.STATION]).sum()"
   ]
  },
  {
   "cell_type": "code",
   "execution_count": 27,
   "metadata": {
    "collapsed": false
   },
   "outputs": [],
   "source": [
    "day_of_week = finaldayofweek.reset_index()"
   ]
  },
  {
   "cell_type": "code",
   "execution_count": 28,
   "metadata": {
    "collapsed": true
   },
   "outputs": [],
   "source": [
    "whatdayindex = lambda x: daysofweek.index(x)"
   ]
  },
  {
   "cell_type": "code",
   "execution_count": 29,
   "metadata": {
    "collapsed": false
   },
   "outputs": [],
   "source": [
    "day_of_week['DAYOFWEEKVALUE'] = day_of_week.DAYOFWEEK.apply(whatdayindex)  \n",
    "\n",
    "\n",
    "day_of_week_final = day_of_week.sort_values(['DAYOFWEEKVALUE','dTOTAL'], ascending = [True, False])\n",
    "#data['HOUR'] = data.DATETIME.apply(lambda x: x.hour)"
   ]
  },
  {
   "cell_type": "code",
   "execution_count": 30,
   "metadata": {
    "collapsed": true
   },
   "outputs": [],
   "source": [
    "day_of_week_final = day_of_week_final.drop(['ENTRIES', 'EXITS', 'HOUR', 'dENTRIES', 'dEXITS', 'DAYOFWEEKVALUE'],1)\n",
    "\n",
    "#df = df.drop('column_name', 1)"
   ]
  },
  {
   "cell_type": "code",
   "execution_count": 31,
   "metadata": {
    "collapsed": false
   },
   "outputs": [
    {
     "data": {
      "text/html": [
       "<div>\n",
       "<table border=\"1\" class=\"dataframe\">\n",
       "  <thead>\n",
       "    <tr style=\"text-align: right;\">\n",
       "      <th></th>\n",
       "      <th>DAYOFWEEK</th>\n",
       "      <th>STATION</th>\n",
       "      <th>dTOTAL</th>\n",
       "    </tr>\n",
       "  </thead>\n",
       "  <tbody>\n",
       "    <tr>\n",
       "      <th>713</th>\n",
       "      <td>Monday</td>\n",
       "      <td>TIMES SQ-42 ST</td>\n",
       "      <td>3943.0</td>\n",
       "    </tr>\n",
       "    <tr>\n",
       "      <th>377</th>\n",
       "      <td>Monday</td>\n",
       "      <td>125 ST</td>\n",
       "      <td>2314.0</td>\n",
       "    </tr>\n",
       "    <tr>\n",
       "      <th>429</th>\n",
       "      <td>Monday</td>\n",
       "      <td>34 ST-PENN STA</td>\n",
       "      <td>2184.0</td>\n",
       "    </tr>\n",
       "    <tr>\n",
       "      <th>619</th>\n",
       "      <td>Monday</td>\n",
       "      <td>JKSN HT-ROOSVLT</td>\n",
       "      <td>2111.0</td>\n",
       "    </tr>\n",
       "    <tr>\n",
       "      <th>383</th>\n",
       "      <td>Monday</td>\n",
       "      <td>145 ST</td>\n",
       "      <td>1841.0</td>\n",
       "    </tr>\n",
       "    <tr>\n",
       "      <th>427</th>\n",
       "      <td>Monday</td>\n",
       "      <td>34 ST-HERALD SQ</td>\n",
       "      <td>1776.0</td>\n",
       "    </tr>\n",
       "    <tr>\n",
       "      <th>579</th>\n",
       "      <td>Monday</td>\n",
       "      <td>FLUSHING-MAIN</td>\n",
       "      <td>1552.0</td>\n",
       "    </tr>\n",
       "    <tr>\n",
       "      <th>595</th>\n",
       "      <td>Monday</td>\n",
       "      <td>GRD CNTRL-42 ST</td>\n",
       "      <td>1453.0</td>\n",
       "    </tr>\n",
       "    <tr>\n",
       "      <th>475</th>\n",
       "      <td>Monday</td>\n",
       "      <td>86 ST</td>\n",
       "      <td>1389.0</td>\n",
       "    </tr>\n",
       "    <tr>\n",
       "      <th>545</th>\n",
       "      <td>Monday</td>\n",
       "      <td>CHURCH AV</td>\n",
       "      <td>1355.0</td>\n",
       "    </tr>\n",
       "  </tbody>\n",
       "</table>\n",
       "</div>"
      ],
      "text/plain": [
       "    DAYOFWEEK          STATION  dTOTAL\n",
       "713    Monday   TIMES SQ-42 ST  3943.0\n",
       "377    Monday           125 ST  2314.0\n",
       "429    Monday   34 ST-PENN STA  2184.0\n",
       "619    Monday  JKSN HT-ROOSVLT  2111.0\n",
       "383    Monday           145 ST  1841.0\n",
       "427    Monday  34 ST-HERALD SQ  1776.0\n",
       "579    Monday    FLUSHING-MAIN  1552.0\n",
       "595    Monday  GRD CNTRL-42 ST  1453.0\n",
       "475    Monday            86 ST  1389.0\n",
       "545    Monday        CHURCH AV  1355.0"
      ]
     },
     "execution_count": 31,
     "metadata": {},
     "output_type": "execute_result"
    }
   ],
   "source": [
    "day_of_week_final[day_of_week_final['DAYOFWEEK'] == 'Monday'].head(10)"
   ]
  },
  {
   "cell_type": "markdown",
   "metadata": {},
   "source": [
    "day_of_week_final is FINAL dataframe for each day of week"
   ]
  },
  {
   "cell_type": "code",
   "execution_count": 104,
   "metadata": {
    "collapsed": false
   },
   "outputs": [],
   "source": [
    "import gmaps\n",
    "import numpy as np\n"
   ]
  },
  {
   "cell_type": "code",
   "execution_count": 105,
   "metadata": {
    "collapsed": true
   },
   "outputs": [],
   "source": [
    "# setting up dataframe of coordinates"
   ]
  },
  {
   "cell_type": "code",
   "execution_count": 106,
   "metadata": {
    "collapsed": false
   },
   "outputs": [],
   "source": [
    "day_of_week_final['dScale'] = (day_of_week_final['dTOTAL'] / 250) ** 2"
   ]
  },
  {
   "cell_type": "code",
   "execution_count": 145,
   "metadata": {
    "collapsed": false,
    "scrolled": false
   },
   "outputs": [
    {
     "data": {
      "text/html": [
       "<div>\n",
       "<table border=\"1\" class=\"dataframe\">\n",
       "  <thead>\n",
       "    <tr style=\"text-align: right;\">\n",
       "      <th></th>\n",
       "      <th>DAYOFWEEK</th>\n",
       "      <th>STATION</th>\n",
       "      <th>dTOTAL</th>\n",
       "      <th>dScale</th>\n",
       "    </tr>\n",
       "  </thead>\n",
       "  <tbody>\n",
       "    <tr>\n",
       "      <th>713</th>\n",
       "      <td>Monday</td>\n",
       "      <td>TIMES SQ-42 ST</td>\n",
       "      <td>3943.0</td>\n",
       "      <td>248.755984</td>\n",
       "    </tr>\n",
       "    <tr>\n",
       "      <th>377</th>\n",
       "      <td>Monday</td>\n",
       "      <td>125 ST</td>\n",
       "      <td>2314.0</td>\n",
       "      <td>85.673536</td>\n",
       "    </tr>\n",
       "    <tr>\n",
       "      <th>429</th>\n",
       "      <td>Monday</td>\n",
       "      <td>34 ST-PENN STA</td>\n",
       "      <td>2184.0</td>\n",
       "      <td>76.317696</td>\n",
       "    </tr>\n",
       "    <tr>\n",
       "      <th>619</th>\n",
       "      <td>Monday</td>\n",
       "      <td>JKSN HT-ROOSVLT</td>\n",
       "      <td>2111.0</td>\n",
       "      <td>71.301136</td>\n",
       "    </tr>\n",
       "    <tr>\n",
       "      <th>383</th>\n",
       "      <td>Monday</td>\n",
       "      <td>145 ST</td>\n",
       "      <td>1841.0</td>\n",
       "      <td>54.228496</td>\n",
       "    </tr>\n",
       "    <tr>\n",
       "      <th>427</th>\n",
       "      <td>Monday</td>\n",
       "      <td>34 ST-HERALD SQ</td>\n",
       "      <td>1776.0</td>\n",
       "      <td>50.466816</td>\n",
       "    </tr>\n",
       "    <tr>\n",
       "      <th>579</th>\n",
       "      <td>Monday</td>\n",
       "      <td>FLUSHING-MAIN</td>\n",
       "      <td>1552.0</td>\n",
       "      <td>38.539264</td>\n",
       "    </tr>\n",
       "    <tr>\n",
       "      <th>595</th>\n",
       "      <td>Monday</td>\n",
       "      <td>GRD CNTRL-42 ST</td>\n",
       "      <td>1453.0</td>\n",
       "      <td>33.779344</td>\n",
       "    </tr>\n",
       "    <tr>\n",
       "      <th>475</th>\n",
       "      <td>Monday</td>\n",
       "      <td>86 ST</td>\n",
       "      <td>1389.0</td>\n",
       "      <td>30.869136</td>\n",
       "    </tr>\n",
       "    <tr>\n",
       "      <th>545</th>\n",
       "      <td>Monday</td>\n",
       "      <td>CHURCH AV</td>\n",
       "      <td>1355.0</td>\n",
       "      <td>29.376400</td>\n",
       "    </tr>\n",
       "  </tbody>\n",
       "</table>\n",
       "</div>"
      ],
      "text/plain": [
       "    DAYOFWEEK          STATION  dTOTAL      dScale\n",
       "713    Monday   TIMES SQ-42 ST  3943.0  248.755984\n",
       "377    Monday           125 ST  2314.0   85.673536\n",
       "429    Monday   34 ST-PENN STA  2184.0   76.317696\n",
       "619    Monday  JKSN HT-ROOSVLT  2111.0   71.301136\n",
       "383    Monday           145 ST  1841.0   54.228496\n",
       "427    Monday  34 ST-HERALD SQ  1776.0   50.466816\n",
       "579    Monday    FLUSHING-MAIN  1552.0   38.539264\n",
       "595    Monday  GRD CNTRL-42 ST  1453.0   33.779344\n",
       "475    Monday            86 ST  1389.0   30.869136\n",
       "545    Monday        CHURCH AV  1355.0   29.376400"
      ]
     },
     "execution_count": 145,
     "metadata": {},
     "output_type": "execute_result"
    }
   ],
   "source": [
    "day_of_week_final[day_of_week_final['DAYOFWEEK'] == 'Monday'].head(10)"
   ]
  },
  {
   "cell_type": "code",
   "execution_count": 146,
   "metadata": {
    "collapsed": false
   },
   "outputs": [],
   "source": [
    "# [[40.749719,-73.987823], [40.700377,-73.950234],[40.751776,-73.976848], [40.622687,-74.028398], [40.644041,-73.979678]]"
   ]
  },
  {
   "cell_type": "code",
   "execution_count": 147,
   "metadata": {
    "collapsed": false,
    "scrolled": true
   },
   "outputs": [],
   "source": [
    "# [[40.754222,-73.984569]] * 15"
   ]
  },
  {
   "cell_type": "code",
   "execution_count": 148,
   "metadata": {
    "collapsed": true
   },
   "outputs": [],
   "source": [
    "import math"
   ]
  },
  {
   "cell_type": "code",
   "execution_count": 149,
   "metadata": {
    "collapsed": false
   },
   "outputs": [
    {
     "name": "stdout",
     "output_type": "stream",
     "text": [
      "[248, 85, 76, 71, 54, 50, 38, 33, 30, 29]\n"
     ]
    }
   ],
   "source": [
    "monday_scales = day_of_week_final['dScale'][day_of_week_final['DAYOFWEEK'] == 'Monday'].head(10)\n",
    "monday_scales = [int(i) for i in monday_scales]\n",
    "\n",
    "print monday_scales"
   ]
  },
  {
   "cell_type": "code",
   "execution_count": 150,
   "metadata": {
    "collapsed": false,
    "scrolled": true
   },
   "outputs": [],
   "source": [
    "monday_coords =[[40.754222, -73.984569], [40.8111094, -73.952343], [40.750373,-73.991057], [40.7495674, -73.98795], [40.7466444, -73.891338], [40.8247834, -73.944216],[40.749719,-73.987823], [40.700377,-73.950234],[40.751776,-73.976848], [40.622687,-74.028398], [40.650843,-73.949575]]\n",
    "\n",
    "# monday_scales = [15,9,8,6,5]\n",
    "# monday_coords_scaled = []\n",
    "# for i in range(len(monday_scales):\n",
    "#     monday_coords_scaled.append(list(itertools.repeat(monday_coord[i], monday_scales[i])))\n",
    "    \n",
    "# print monday_coords_scaled + [1,2]"
   ]
  },
  {
   "cell_type": "code",
   "execution_count": 151,
   "metadata": {
    "collapsed": false
   },
   "outputs": [
    {
     "name": "stdout",
     "output_type": "stream",
     "text": [
      "[[40.754222, -73.984569], [40.754222, -73.984569], [40.754222, -73.984569], [40.8111094, -73.952343], [40.8111094, -73.952343], [40.8111094, -73.952343]]\n"
     ]
    }
   ],
   "source": [
    "print [monday_coords[0]] * 3 + [monday_coords[1]] * 3"
   ]
  },
  {
   "cell_type": "code",
   "execution_count": 152,
   "metadata": {
    "collapsed": false
   },
   "outputs": [
    {
     "name": "stdout",
     "output_type": "stream",
     "text": [
      "[40.754222, -73.984569]\n"
     ]
    }
   ],
   "source": [
    "print [] + monday_coords[0]"
   ]
  },
  {
   "cell_type": "code",
   "execution_count": 153,
   "metadata": {
    "collapsed": false
   },
   "outputs": [],
   "source": [
    "def ScaleCoordinates(coords, scales):\n",
    "    new_array = []\n",
    "    for i in range(len(scales)):\n",
    "        new_array = new_array + ([coords[i]] * scales[i])\n",
    "    return new_array"
   ]
  },
  {
   "cell_type": "code",
   "execution_count": 158,
   "metadata": {
    "collapsed": true
   },
   "outputs": [],
   "source": [
    "def Jitter(arr, jitter=0.0005):\n",
    "    jitter_list = []\n",
    "    for row in arr:\n",
    "        jitter_list = jitter_list + ([[row[0] + np.random.normal(-jitter, +jitter), row[1] +np.random.uniform(-jitter, +jitter)]])\n",
    "    return jitter_list"
   ]
  },
  {
   "cell_type": "code",
   "execution_count": 159,
   "metadata": {
    "collapsed": false,
    "scrolled": true
   },
   "outputs": [
    {
     "name": "stdout",
     "output_type": "stream",
     "text": [
      "[[40.754222, -73.984569], [40.754222, -73.984569], [40.754222, -73.984569], [40.754222, -73.984569], [40.754222, -73.984569]]\n"
     ]
    }
   ],
   "source": [
    "monday_scaled_coordinates = ScaleCoordinates(monday_coords,monday_scales)\n",
    "print scaled_coordinates[:5]"
   ]
  },
  {
   "cell_type": "code",
   "execution_count": 160,
   "metadata": {
    "collapsed": false,
    "scrolled": true
   },
   "outputs": [],
   "source": [
    "monday_jitter_coords = Jitter(scaled_coordinates)"
   ]
  },
  {
   "cell_type": "code",
   "execution_count": 161,
   "metadata": {
    "collapsed": false
   },
   "outputs": [],
   "source": [
    "gmaps.heatmap(jitter_coords)"
   ]
  },
  {
   "cell_type": "code",
   "execution_count": null,
   "metadata": {
    "collapsed": false,
    "scrolled": true
   },
   "outputs": [],
   "source": [
    "# monday_coords = []\n",
    "# monday_coords.append([[40.754222,-73.984569]] * 15)\n",
    "# monday_coords.append([[40.8111094,-73.952343]] * 9)\n",
    "# monday_coords.append([[40.7495674,-73.98795]] * 8)\n",
    "# monday_coords.append([[40.7466444,-73.891338]] * 5)\n",
    "# monday_coords.append([[40.8247834,-73.944216]] * 3)\n",
    "\n",
    "# #                 [[40.754222,-73.984569]] * 15,\n",
    "# #                 [[40.8111094,-73.952343]] * 9,\n",
    "# #                 [[40.7495674,-73.98795]] * 8,\n",
    "# #                 [[40.7466444,-73.891338]] * 5,\n",
    "# #                 [[40.8247834,-73.944216]] * 3\n",
    "# #                 ]\n",
    "# # monday_scales = [15,9,8,6,5]\n",
    "# # monday_coords_scaled = []\n",
    "# # for i in monday_scales:\n",
    "# #     for n in range(i):\n",
    "# #         monday_coord_scaled.append(monday,)\n",
    "# #                 [15 * [40.754222,-73.984569],\n",
    "# #                 9 * [40.8111094,-73.952343],\n",
    "# #                 9 * [40.7495674,-73.98795],\n",
    "# #                 8 * [40.7466444,-73.891338],\n",
    "# #                 8 * [40.8247834,-73.944216]]\n",
    "\n",
    "\n",
    "# print monday_coords\n",
    "\n",
    "# print ('/n' + 'break')\n",
    "\n",
    "# monday_coord_jitter = Jitter(monday_coord)\n",
    "# print monday_coord_jitter"
   ]
  },
  {
   "cell_type": "code",
   "execution_count": null,
   "metadata": {
    "collapsed": false,
    "scrolled": false
   },
   "outputs": [],
   "source": [
    "# gmaps.heatmap(monday_coord_jitter)"
   ]
  },
  {
   "cell_type": "code",
   "execution_count": null,
   "metadata": {
    "collapsed": true
   },
   "outputs": [],
   "source": [
    "# df_locations = pd.read_csv('NYC_Transit_Subway_Entrance_And_Exit_Data.csv')\n",
    "# df_locations = df_locations[['Station Name', 'Station Latitude', 'Station Longitude']]\n",
    "# df_locations_upper = df_locations\n",
    "# df_locations_upper['Station Name'] = df_locations['Station Name'].str.upper()\n",
    "# day_of_week_final.merge(df_locations_upper, left_on='STATION', right_on='Station Name', how='outer')"
   ]
  },
  {
   "cell_type": "code",
   "execution_count": null,
   "metadata": {
    "collapsed": true
   },
   "outputs": [],
   "source": []
  },
  {
   "cell_type": "code",
   "execution_count": null,
   "metadata": {
    "collapsed": true
   },
   "outputs": [],
   "source": []
  }
 ],
 "metadata": {
  "kernelspec": {
   "display_name": "Python 2",
   "language": "python",
   "name": "python2"
  },
  "language_info": {
   "codemirror_mode": {
    "name": "ipython",
    "version": 2
   },
   "file_extension": ".py",
   "mimetype": "text/x-python",
   "name": "python",
   "nbconvert_exporter": "python",
   "pygments_lexer": "ipython2",
   "version": "2.7.11"
  }
 },
 "nbformat": 4,
 "nbformat_minor": 0
}
