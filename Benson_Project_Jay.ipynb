{
 "cells": [
  {
   "cell_type": "markdown",
   "metadata": {},
   "source": [
    "### Benson Team Awesome\n",
    "\n",
    "C/A,UNIT,SCP,STATION,LINENAME,DIVISION,DATE,TIME,DESC,ENTRIES,EXITS\n",
    "\n",
    "\n",
    "|Code      | explanation                                                                                     |\n",
    "|:-------- |:----------------------------------------------------------------------------------------------- | \n",
    "| C/A      | Control Area (A002)                                                                          | \n",
    "| UNIT     | Remote Unit for a station (R051)                                                             | \n",
    "| SCP      | Subunit Channel Position represents an specific address for a device (02-00-00)              | \n",
    "| STATION  | Represents the station name the device is located at                                         | \n",
    "| LINENAME | Represents all train lines that can be boarded at this station                               | \n",
    "|          |   Normally lines are represented by one character.  LINENAME 456NQR repersents train server for | \n",
    "|          |   4, 5, 6, N, Q, and R trains.                                                                  | \n",
    "| DIVISION | Represents the Line originally the station belonged to BMT, IRT, or IND                      | \n",
    "| DATE     | Represents the date (MM-DD-YY)                                                               |   \n",
    "| TIME     | Represents the time (hh:mm:ss) for a scheduled audit event                                   | \n",
    "| DESc     | Represent the \"REGULAR\" scheduled audit event (Normally occurs every 4 hours)                | \n",
    "|          |   1. Audits may occur more that 4 hours due to planning, or troubleshooting activities.         | \n",
    "|          |   2. Additionally, there may be a \"RECOVR AUD\" entry: This refers to a missed audit that was recovered. |\n",
    "|ENTRIES   | The comulative entry register value for a device|\n",
    "|EXIST     | The cumulative exit register value for a device|\n"
   ]
  },
  {
   "cell_type": "markdown",
   "metadata": {},
   "source": []
  },
  {
   "cell_type": "code",
   "execution_count": 1,
   "metadata": {
    "collapsed": false
   },
   "outputs": [],
   "source": [
    "import csv\n",
    "import urllib\n",
    "import io\n",
    "import collections as clt\n",
    "import pandas as pd\n",
    "import numpy as np\n",
    "import datetime as dt\n",
    "import multiprocessing as mlp\n",
    "data = pd.read_csv('http://web.mta.info/developers/data/nyct/turnstile/turnstile_160402.txt')"
   ]
  },
  {
   "cell_type": "code",
   "execution_count": 2,
   "metadata": {
    "collapsed": false
   },
   "outputs": [
    {
     "data": {
      "text/html": [
       "<div>\n",
       "<table border=\"1\" class=\"dataframe\">\n",
       "  <thead>\n",
       "    <tr style=\"text-align: right;\">\n",
       "      <th></th>\n",
       "      <th>C/A</th>\n",
       "      <th>UNIT</th>\n",
       "      <th>SCP</th>\n",
       "      <th>STATION</th>\n",
       "      <th>LINENAME</th>\n",
       "      <th>DIVISION</th>\n",
       "      <th>DATE</th>\n",
       "      <th>TIME</th>\n",
       "      <th>DESC</th>\n",
       "      <th>ENTRIES</th>\n",
       "      <th>EXITS</th>\n",
       "    </tr>\n",
       "  </thead>\n",
       "  <tbody>\n",
       "    <tr>\n",
       "      <th>0</th>\n",
       "      <td>A002</td>\n",
       "      <td>R051</td>\n",
       "      <td>02-00-00</td>\n",
       "      <td>59 ST</td>\n",
       "      <td>NQR456</td>\n",
       "      <td>BMT</td>\n",
       "      <td>03/26/2016</td>\n",
       "      <td>00:00:00</td>\n",
       "      <td>REGULAR</td>\n",
       "      <td>5595746</td>\n",
       "      <td>1893277</td>\n",
       "    </tr>\n",
       "    <tr>\n",
       "      <th>1</th>\n",
       "      <td>A002</td>\n",
       "      <td>R051</td>\n",
       "      <td>02-00-00</td>\n",
       "      <td>59 ST</td>\n",
       "      <td>NQR456</td>\n",
       "      <td>BMT</td>\n",
       "      <td>03/26/2016</td>\n",
       "      <td>04:00:00</td>\n",
       "      <td>REGULAR</td>\n",
       "      <td>5595746</td>\n",
       "      <td>1893282</td>\n",
       "    </tr>\n",
       "    <tr>\n",
       "      <th>2</th>\n",
       "      <td>A002</td>\n",
       "      <td>R051</td>\n",
       "      <td>02-00-00</td>\n",
       "      <td>59 ST</td>\n",
       "      <td>NQR456</td>\n",
       "      <td>BMT</td>\n",
       "      <td>03/26/2016</td>\n",
       "      <td>08:00:00</td>\n",
       "      <td>REGULAR</td>\n",
       "      <td>5595746</td>\n",
       "      <td>1893282</td>\n",
       "    </tr>\n",
       "    <tr>\n",
       "      <th>3</th>\n",
       "      <td>A002</td>\n",
       "      <td>R051</td>\n",
       "      <td>02-00-00</td>\n",
       "      <td>59 ST</td>\n",
       "      <td>NQR456</td>\n",
       "      <td>BMT</td>\n",
       "      <td>03/26/2016</td>\n",
       "      <td>12:00:00</td>\n",
       "      <td>REGULAR</td>\n",
       "      <td>5595746</td>\n",
       "      <td>1893282</td>\n",
       "    </tr>\n",
       "    <tr>\n",
       "      <th>4</th>\n",
       "      <td>A002</td>\n",
       "      <td>R051</td>\n",
       "      <td>02-00-00</td>\n",
       "      <td>59 ST</td>\n",
       "      <td>NQR456</td>\n",
       "      <td>BMT</td>\n",
       "      <td>03/26/2016</td>\n",
       "      <td>16:00:00</td>\n",
       "      <td>REGULAR</td>\n",
       "      <td>5595746</td>\n",
       "      <td>1893282</td>\n",
       "    </tr>\n",
       "  </tbody>\n",
       "</table>\n",
       "</div>"
      ],
      "text/plain": [
       "    C/A  UNIT       SCP STATION LINENAME DIVISION        DATE      TIME  \\\n",
       "0  A002  R051  02-00-00   59 ST   NQR456      BMT  03/26/2016  00:00:00   \n",
       "1  A002  R051  02-00-00   59 ST   NQR456      BMT  03/26/2016  04:00:00   \n",
       "2  A002  R051  02-00-00   59 ST   NQR456      BMT  03/26/2016  08:00:00   \n",
       "3  A002  R051  02-00-00   59 ST   NQR456      BMT  03/26/2016  12:00:00   \n",
       "4  A002  R051  02-00-00   59 ST   NQR456      BMT  03/26/2016  16:00:00   \n",
       "\n",
       "      DESC  ENTRIES  \\\n",
       "0  REGULAR  5595746   \n",
       "1  REGULAR  5595746   \n",
       "2  REGULAR  5595746   \n",
       "3  REGULAR  5595746   \n",
       "4  REGULAR  5595746   \n",
       "\n",
       "   EXITS                                                                 \n",
       "0                                            1893277                     \n",
       "1                                            1893282                     \n",
       "2                                            1893282                     \n",
       "3                                            1893282                     \n",
       "4                                            1893282                     "
      ]
     },
     "execution_count": 2,
     "metadata": {},
     "output_type": "execute_result"
    }
   ],
   "source": [
    "data.head()"
   ]
  },
  {
   "cell_type": "code",
   "execution_count": 3,
   "metadata": {
    "collapsed": false
   },
   "outputs": [
    {
     "data": {
      "text/plain": [
       "Index(['C/A', 'UNIT', 'SCP', 'STATION', 'LINENAME', 'DIVISION', 'DATE', 'TIME',\n",
       "       'DESC', 'ENTRIES',\n",
       "       'EXITS                                                               '],\n",
       "      dtype='object')"
      ]
     },
     "execution_count": 3,
     "metadata": {},
     "output_type": "execute_result"
    }
   ],
   "source": [
    "data.columns"
   ]
  },
  {
   "cell_type": "code",
   "execution_count": 5,
   "metadata": {
    "collapsed": false
   },
   "outputs": [
    {
     "data": {
      "text/plain": [
       "Index(['C_A', 'UNIT', 'SCP', 'STATION', 'LINENAME', 'DIVISION', 'DATE', 'TIME',\n",
       "       'DESC', 'ENTRIES', 'EXITS'],\n",
       "      dtype='object')"
      ]
     },
     "execution_count": 5,
     "metadata": {},
     "output_type": "execute_result"
    }
   ],
   "source": [
    "data.rename(columns={data.columns[-1]: data.columns[-1].strip(), 'C/A':'C_A'}, inplace=True)\n",
    "data.columns"
   ]
  },
  {
   "cell_type": "code",
   "execution_count": null,
   "metadata": {
    "collapsed": false,
    "scrolled": false
   },
   "outputs": [],
   "source": [
    "#data[mask, 'Delta'] = abs((data[mask,'ENTRIES'] - data[mask,'ENTRIES'].shift(-1)) + (data[mask,'EXITS'] - data[mask,'EXITS'].shift(-1)))\n",
    "data.head()"
   ]
  },
  {
   "cell_type": "code",
   "execution_count": null,
   "metadata": {
    "collapsed": false
   },
   "outputs": [],
   "source": [
    "#test = data.sort_values(['Delta'])\n",
    "#data.drop(['C/A', 'UNIT', 'SCP','STATION'], axis=1, inplace=True)"
   ]
  },
  {
   "cell_type": "code",
   "execution_count": 6,
   "metadata": {
    "collapsed": false
   },
   "outputs": [],
   "source": [
    "data['Period'] = data['DATE'] + ' ' + data['TIME']\n",
    "data.Period = pd.to_datetime(data.Period)\n",
    "#data.drop(['DATA','TIME'])"
   ]
  },
  {
   "cell_type": "code",
   "execution_count": 17,
   "metadata": {
    "collapsed": false
   },
   "outputs": [
    {
     "data": {
      "text/plain": [
       "dict_keys([('AA', 'BB')])"
      ]
     },
     "execution_count": 17,
     "metadata": {},
     "output_type": "execute_result"
    }
   ],
   "source": [
    "#df_night = data[data['TIME' ==  ]\n",
    "#data.head()\n",
    "raw_readings ={}\n",
    "raw_readings.setdefault(tuple(['AA','BB']), pd.DataFrame()).append(pd.DataFrame(['5','6']))\n",
    "raw_readings.keys()"
   ]
  },
  {
   "cell_type": "code",
   "execution_count": null,
   "metadata": {
    "collapsed": false
   },
   "outputs": [],
   "source": [
    "#Create the keys that is used to make a mask\n",
    "data_dict = clt.OrderedDict()\n",
    "data['id'] = data.iloc[:, 0]\n",
    "for j in range(data.shape[0]):\n",
    "    data_dict.setdefault(tuple(data.ix[j,0:4]), pd.DataFrame())\n",
    "        \n",
    "#drop the keys that is \n",
    "#mask_key = data['id'].drop_duplicates()\n",
    "#mask_ind = np.arange(mask_key.shape[0])\n",
    "#data.id.replace(mask_key.as_matrix(), mask_ind, inplace=True)\n",
    "#test = data.sort_values(['Delta'])\n",
    "#data.drop(['C/A', 'UNIT', 'SCP','STATION'], axis=1, inplace=True)\n",
    "#data.drop(['LINENAME', 'DIVISION', 'DATE','TIME'], axis=1, inplace=True)\n",
    "#print(mask_key.as_matrix())\n",
    "data_dict"
   ]
  },
  {
   "cell_type": "code",
   "execution_count": null,
   "metadata": {
    "collapsed": false
   },
   "outputs": [],
   "source": [
    "#Initialize the Delta columns as zeros\n",
    "data['Delta_ENTRIES'] = np.zeros(data.shape[0])\n",
    "data['Delta_EXITS'] = np.zeros(data.shape[0])\n",
    "\n",
    "#temporary function to fill in the deltas by selections\n",
    "#a0 = data['C/A'].drop_duplicates()\n",
    "#a1 = data['UNIT'].drop_duplicates()\n",
    "#a2 = data['SCP'].drop_duplicates()\n",
    "#a3 = data['STATION'].drop_duplicates()\n",
    "#for i0 in a0:\n",
    "#    for i1 in a1:\n",
    "        for \n",
    "def fill_in(mask):\n",
    "    data.ix[mask,'Delta_ENTRIES'] = (data.loc[mask, 'ENTRIES'].shift(1) - data.loc[mask, 'ENTRIES'].shift(-1))\n",
    "    data.ix[mask,'Delta_EXITS'] = (data.loc[mask, 'EXITS'].shift(1) - data.loc[mask, 'EXITS'].shift(-1))"
   ]
  },
  {
   "cell_type": "code",
   "execution_count": null,
   "metadata": {
    "collapsed": false
   },
   "outputs": [],
   "source": [
    "for s in mask_ind:\n",
    "    mask = data['id'].isin(s)\n",
    "    fill_in(mask)"
   ]
  },
  {
   "cell_type": "code",
   "execution_count": null,
   "metadata": {
    "collapsed": false
   },
   "outputs": [],
   "source": [
    "data['Delta_ENTRIES'] = (data['ENTRIES'] - data['ENTRIES'].shift(-1))\n",
    "data['Delta_EXITS'] = (data['EXITS'] - data['EXITS'].shift(-1))\n",
    "#print(data.head(20))\n",
    "print(data.head(50))\n"
   ]
  },
  {
   "cell_type": "code",
   "execution_count": null,
   "metadata": {
    "collapsed": false
   },
   "outputs": [],
   "source": [
    "df.mask('DIVISION', 'BMT')"
   ]
  },
  {
   "cell_type": "code",
   "execution_count": null,
   "metadata": {
    "collapsed": false
   },
   "outputs": [],
   "source": [
    "import gmaps\n",
    "data = gmaps.datasets.load_dataset('taxi_rides')\n",
    "gmaps.heatmap(data)"
   ]
  },
  {
   "cell_type": "code",
   "execution_count": null,
   "metadata": {
    "collapsed": false
   },
   "outputs": [],
   "source": []
  },
  {
   "cell_type": "code",
   "execution_count": null,
   "metadata": {
    "collapsed": false
   },
   "outputs": [],
   "source": [
    "A = pd.DataFrame(np.random.randn(4, 4), columns=[\"A\", \"B\", \"C\", \"D\"])\n",
    "A.mask(\"A\", 0.7).mask(\"B\", 0.2)\n"
   ]
  },
  {
   "cell_type": "code",
   "execution_count": null,
   "metadata": {
    "collapsed": true
   },
   "outputs": [],
   "source": []
  }
 ],
 "metadata": {
  "kernelspec": {
   "display_name": "Python 3",
   "language": "python",
   "name": "python3"
  },
  "language_info": {
   "codemirror_mode": {
    "name": "ipython",
    "version": 3
   },
   "file_extension": ".py",
   "mimetype": "text/x-python",
   "name": "python",
   "nbconvert_exporter": "python",
   "pygments_lexer": "ipython3",
   "version": "3.5.1"
  }
 },
 "nbformat": 4,
 "nbformat_minor": 0
}
