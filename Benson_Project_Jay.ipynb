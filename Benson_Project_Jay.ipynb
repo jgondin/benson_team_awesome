{
 "cells": [
  {
   "cell_type": "markdown",
   "metadata": {},
   "source": [
    "### Benson Team Awesome\n",
    "\n",
    "C/A,UNIT,SCP,STATION,LINENAME,DIVISION,DATE,TIME,DESC,ENTRIES,EXITS\n",
    "\n",
    "\n",
    "|Code      | explanation                                                                                     |\n",
    "|:-------- |:----------------------------------------------------------------------------------------------- | \n",
    "| C/A      | Control Area (A002)                                                                          | \n",
    "| UNIT     | Remote Unit for a station (R051)                                                             | \n",
    "| SCP      | Subunit Channel Position represents an specific address for a device (02-00-00)              | \n",
    "| STATION  | Represents the station name the device is located at                                         | \n",
    "| LINENAME | Represents all train lines that can be boarded at this station                               | \n",
    "|          |   Normally lines are represented by one character.  LINENAME 456NQR repersents train server for | \n",
    "|          |   4, 5, 6, N, Q, and R trains.                                                                  | \n",
    "| DIVISION | Represents the Line originally the station belonged to BMT, IRT, or IND                      | \n",
    "| DATE     | Represents the date (MM-DD-YY)                                                               |   \n",
    "| TIME     | Represents the time (hh:mm:ss) for a scheduled audit event                                   | \n",
    "| DESc     | Represent the \"REGULAR\" scheduled audit event (Normally occurs every 4 hours)                | \n",
    "|          |   1. Audits may occur more that 4 hours due to planning, or troubleshooting activities.         | \n",
    "|          |   2. Additionally, there may be a \"RECOVR AUD\" entry: This refers to a missed audit that was recovered. |\n",
    "|ENTRIES   | The comulative entry register value for a device|\n",
    "|EXIST     | The cumulative exit register value for a device|\n"
   ]
  },
  {
   "cell_type": "markdown",
   "metadata": {},
   "source": []
  },
  {
   "cell_type": "code",
   "execution_count": 1,
   "metadata": {
    "collapsed": false
   },
   "outputs": [],
   "source": [
    "import csv\n",
    "import urllib\n",
    "import io\n",
    "import pandas as pd\n",
    "import numpy as np\n",
    "import multiprocessing as mlp\n",
    "data = pd.read_csv('http://web.mta.info/developers/data/nyct/turnstile/turnstile_160326.txt')"
   ]
  },
  {
   "cell_type": "code",
   "execution_count": 2,
   "metadata": {
    "collapsed": false
   },
   "outputs": [
    {
     "data": {
      "text/html": [
       "<div>\n",
       "<table border=\"1\" class=\"dataframe\">\n",
       "  <thead>\n",
       "    <tr style=\"text-align: right;\">\n",
       "      <th></th>\n",
       "      <th>C/A</th>\n",
       "      <th>UNIT</th>\n",
       "      <th>SCP</th>\n",
       "      <th>STATION</th>\n",
       "      <th>LINENAME</th>\n",
       "      <th>DIVISION</th>\n",
       "      <th>DATE</th>\n",
       "      <th>TIME</th>\n",
       "      <th>DESC</th>\n",
       "      <th>ENTRIES</th>\n",
       "      <th>EXITS</th>\n",
       "    </tr>\n",
       "  </thead>\n",
       "  <tbody>\n",
       "    <tr>\n",
       "      <th>0</th>\n",
       "      <td>A002</td>\n",
       "      <td>R051</td>\n",
       "      <td>02-00-00</td>\n",
       "      <td>59 ST</td>\n",
       "      <td>NQR456</td>\n",
       "      <td>BMT</td>\n",
       "      <td>03/19/2016</td>\n",
       "      <td>00:00:00</td>\n",
       "      <td>REGULAR</td>\n",
       "      <td>5590801</td>\n",
       "      <td>1889027</td>\n",
       "    </tr>\n",
       "    <tr>\n",
       "      <th>1</th>\n",
       "      <td>A002</td>\n",
       "      <td>R051</td>\n",
       "      <td>02-00-00</td>\n",
       "      <td>59 ST</td>\n",
       "      <td>NQR456</td>\n",
       "      <td>BMT</td>\n",
       "      <td>03/19/2016</td>\n",
       "      <td>04:00:00</td>\n",
       "      <td>REGULAR</td>\n",
       "      <td>5590828</td>\n",
       "      <td>1889032</td>\n",
       "    </tr>\n",
       "    <tr>\n",
       "      <th>2</th>\n",
       "      <td>A002</td>\n",
       "      <td>R051</td>\n",
       "      <td>02-00-00</td>\n",
       "      <td>59 ST</td>\n",
       "      <td>NQR456</td>\n",
       "      <td>BMT</td>\n",
       "      <td>03/19/2016</td>\n",
       "      <td>08:00:00</td>\n",
       "      <td>REGULAR</td>\n",
       "      <td>5590852</td>\n",
       "      <td>1889059</td>\n",
       "    </tr>\n",
       "    <tr>\n",
       "      <th>3</th>\n",
       "      <td>A002</td>\n",
       "      <td>R051</td>\n",
       "      <td>02-00-00</td>\n",
       "      <td>59 ST</td>\n",
       "      <td>NQR456</td>\n",
       "      <td>BMT</td>\n",
       "      <td>03/19/2016</td>\n",
       "      <td>12:00:00</td>\n",
       "      <td>REGULAR</td>\n",
       "      <td>5590958</td>\n",
       "      <td>1889162</td>\n",
       "    </tr>\n",
       "    <tr>\n",
       "      <th>4</th>\n",
       "      <td>A002</td>\n",
       "      <td>R051</td>\n",
       "      <td>02-00-00</td>\n",
       "      <td>59 ST</td>\n",
       "      <td>NQR456</td>\n",
       "      <td>BMT</td>\n",
       "      <td>03/19/2016</td>\n",
       "      <td>16:00:00</td>\n",
       "      <td>REGULAR</td>\n",
       "      <td>5591207</td>\n",
       "      <td>1889248</td>\n",
       "    </tr>\n",
       "  </tbody>\n",
       "</table>\n",
       "</div>"
      ],
      "text/plain": [
       "    C/A  UNIT       SCP STATION LINENAME DIVISION        DATE      TIME  \\\n",
       "0  A002  R051  02-00-00   59 ST   NQR456      BMT  03/19/2016  00:00:00   \n",
       "1  A002  R051  02-00-00   59 ST   NQR456      BMT  03/19/2016  04:00:00   \n",
       "2  A002  R051  02-00-00   59 ST   NQR456      BMT  03/19/2016  08:00:00   \n",
       "3  A002  R051  02-00-00   59 ST   NQR456      BMT  03/19/2016  12:00:00   \n",
       "4  A002  R051  02-00-00   59 ST   NQR456      BMT  03/19/2016  16:00:00   \n",
       "\n",
       "      DESC  ENTRIES  \\\n",
       "0  REGULAR  5590801   \n",
       "1  REGULAR  5590828   \n",
       "2  REGULAR  5590852   \n",
       "3  REGULAR  5590958   \n",
       "4  REGULAR  5591207   \n",
       "\n",
       "   EXITS                                                                 \n",
       "0                                            1889027                     \n",
       "1                                            1889032                     \n",
       "2                                            1889059                     \n",
       "3                                            1889162                     \n",
       "4                                            1889248                     "
      ]
     },
     "execution_count": 2,
     "metadata": {},
     "output_type": "execute_result"
    }
   ],
   "source": [
    "data.head()"
   ]
  },
  {
   "cell_type": "code",
   "execution_count": 11,
   "metadata": {
    "collapsed": false
   },
   "outputs": [
    {
     "data": {
      "text/plain": [
       "Index(['C/A', 'UNIT', 'SCP', 'STATION', 'LINENAME', 'DIVISION', 'DATE', 'TIME',\n",
       "       'DESC', 'ENTRIES', 'EXITS', 'id'],\n",
       "      dtype='object')"
      ]
     },
     "execution_count": 11,
     "metadata": {},
     "output_type": "execute_result"
    }
   ],
   "source": [
    "data.columns"
   ]
  },
  {
   "cell_type": "code",
   "execution_count": 12,
   "metadata": {
    "collapsed": false
   },
   "outputs": [
    {
     "data": {
      "text/plain": [
       "Index(['C/A', 'UNIT', 'SCP', 'STATION', 'LINENAME', 'DIVISION', 'DATE', 'TIME',\n",
       "       'DESC', 'ENTRIES', 'EXITS', 'id'],\n",
       "      dtype='object')"
      ]
     },
     "execution_count": 12,
     "metadata": {},
     "output_type": "execute_result"
    }
   ],
   "source": [
    "data.rename(columns={data.columns[-1]: data.columns[-1].replace(' ','')}, inplace=True)\n",
    "data.columns"
   ]
  },
  {
   "cell_type": "code",
   "execution_count": 13,
   "metadata": {
    "collapsed": false
   },
   "outputs": [
    {
     "data": {
      "text/html": [
       "<div>\n",
       "<table border=\"1\" class=\"dataframe\">\n",
       "  <thead>\n",
       "    <tr style=\"text-align: right;\">\n",
       "      <th></th>\n",
       "      <th>C/A</th>\n",
       "      <th>UNIT</th>\n",
       "      <th>SCP</th>\n",
       "      <th>STATION</th>\n",
       "      <th>LINENAME</th>\n",
       "      <th>DIVISION</th>\n",
       "      <th>DATE</th>\n",
       "      <th>TIME</th>\n",
       "      <th>DESC</th>\n",
       "      <th>ENTRIES</th>\n",
       "      <th>EXITS</th>\n",
       "      <th>id</th>\n",
       "    </tr>\n",
       "  </thead>\n",
       "  <tbody>\n",
       "    <tr>\n",
       "      <th>0</th>\n",
       "      <td>A002</td>\n",
       "      <td>R051</td>\n",
       "      <td>02-00-00</td>\n",
       "      <td>59 ST</td>\n",
       "      <td>NQR456</td>\n",
       "      <td>BMT</td>\n",
       "      <td>03/19/2016</td>\n",
       "      <td>00:00:00</td>\n",
       "      <td>REGULAR</td>\n",
       "      <td>5590801</td>\n",
       "      <td>1889027</td>\n",
       "      <td>A002,R051,02-00-00,59 ST</td>\n",
       "    </tr>\n",
       "    <tr>\n",
       "      <th>1</th>\n",
       "      <td>A002</td>\n",
       "      <td>R051</td>\n",
       "      <td>02-00-00</td>\n",
       "      <td>59 ST</td>\n",
       "      <td>NQR456</td>\n",
       "      <td>BMT</td>\n",
       "      <td>03/19/2016</td>\n",
       "      <td>04:00:00</td>\n",
       "      <td>REGULAR</td>\n",
       "      <td>5590828</td>\n",
       "      <td>1889032</td>\n",
       "      <td>A002,R051,02-00-00,59 ST</td>\n",
       "    </tr>\n",
       "    <tr>\n",
       "      <th>2</th>\n",
       "      <td>A002</td>\n",
       "      <td>R051</td>\n",
       "      <td>02-00-00</td>\n",
       "      <td>59 ST</td>\n",
       "      <td>NQR456</td>\n",
       "      <td>BMT</td>\n",
       "      <td>03/19/2016</td>\n",
       "      <td>08:00:00</td>\n",
       "      <td>REGULAR</td>\n",
       "      <td>5590852</td>\n",
       "      <td>1889059</td>\n",
       "      <td>A002,R051,02-00-00,59 ST</td>\n",
       "    </tr>\n",
       "    <tr>\n",
       "      <th>3</th>\n",
       "      <td>A002</td>\n",
       "      <td>R051</td>\n",
       "      <td>02-00-00</td>\n",
       "      <td>59 ST</td>\n",
       "      <td>NQR456</td>\n",
       "      <td>BMT</td>\n",
       "      <td>03/19/2016</td>\n",
       "      <td>12:00:00</td>\n",
       "      <td>REGULAR</td>\n",
       "      <td>5590958</td>\n",
       "      <td>1889162</td>\n",
       "      <td>A002,R051,02-00-00,59 ST</td>\n",
       "    </tr>\n",
       "    <tr>\n",
       "      <th>4</th>\n",
       "      <td>A002</td>\n",
       "      <td>R051</td>\n",
       "      <td>02-00-00</td>\n",
       "      <td>59 ST</td>\n",
       "      <td>NQR456</td>\n",
       "      <td>BMT</td>\n",
       "      <td>03/19/2016</td>\n",
       "      <td>16:00:00</td>\n",
       "      <td>REGULAR</td>\n",
       "      <td>5591207</td>\n",
       "      <td>1889248</td>\n",
       "      <td>A002,R051,02-00-00,59 ST</td>\n",
       "    </tr>\n",
       "  </tbody>\n",
       "</table>\n",
       "</div>"
      ],
      "text/plain": [
       "    C/A  UNIT       SCP STATION LINENAME DIVISION        DATE      TIME  \\\n",
       "0  A002  R051  02-00-00   59 ST   NQR456      BMT  03/19/2016  00:00:00   \n",
       "1  A002  R051  02-00-00   59 ST   NQR456      BMT  03/19/2016  04:00:00   \n",
       "2  A002  R051  02-00-00   59 ST   NQR456      BMT  03/19/2016  08:00:00   \n",
       "3  A002  R051  02-00-00   59 ST   NQR456      BMT  03/19/2016  12:00:00   \n",
       "4  A002  R051  02-00-00   59 ST   NQR456      BMT  03/19/2016  16:00:00   \n",
       "\n",
       "      DESC  ENTRIES    EXITS                        id  \n",
       "0  REGULAR  5590801  1889027  A002,R051,02-00-00,59 ST  \n",
       "1  REGULAR  5590828  1889032  A002,R051,02-00-00,59 ST  \n",
       "2  REGULAR  5590852  1889059  A002,R051,02-00-00,59 ST  \n",
       "3  REGULAR  5590958  1889162  A002,R051,02-00-00,59 ST  \n",
       "4  REGULAR  5591207  1889248  A002,R051,02-00-00,59 ST  "
      ]
     },
     "execution_count": 13,
     "metadata": {},
     "output_type": "execute_result"
    }
   ],
   "source": [
    "#data[mask, 'Delta'] = abs((data[mask,'ENTRIES'] - data[mask,'ENTRIES'].shift(-1)) + (data[mask,'EXITS'] - data[mask,'EXITS'].shift(-1)))\n",
    "data.head()"
   ]
  },
  {
   "cell_type": "code",
   "execution_count": 14,
   "metadata": {
    "collapsed": false
   },
   "outputs": [],
   "source": [
    "#test = data.sort_values(['Delta'])\n"
   ]
  },
  {
   "cell_type": "code",
   "execution_count": 15,
   "metadata": {
    "collapsed": false
   },
   "outputs": [],
   "source": [
    "#data[['TIME','DATE']] = pd.to_datetime(data[['TIME','DATE']])\n"
   ]
  },
  {
   "cell_type": "code",
   "execution_count": 16,
   "metadata": {
    "collapsed": true
   },
   "outputs": [],
   "source": [
    "#df_night = data[data['TIME' ==  ]"
   ]
  },
  {
   "cell_type": "code",
   "execution_count": 18,
   "metadata": {
    "collapsed": false
   },
   "outputs": [
    {
     "name": "stdout",
     "output_type": "stream",
     "text": [
      "    C/A  UNIT       SCP STATION LINENAME DIVISION        DATE      TIME  \\\n",
      "0  A002  R051  02-00-00   59 ST   NQR456      BMT  03/19/2016  00:00:00   \n",
      "1  A002  R051  02-00-00   59 ST   NQR456      BMT  03/19/2016  04:00:00   \n",
      "2  A002  R051  02-00-00   59 ST   NQR456      BMT  03/19/2016  08:00:00   \n",
      "3  A002  R051  02-00-00   59 ST   NQR456      BMT  03/19/2016  12:00:00   \n",
      "4  A002  R051  02-00-00   59 ST   NQR456      BMT  03/19/2016  16:00:00   \n",
      "\n",
      "      DESC  ENTRIES    EXITS                        id  \n",
      "0  REGULAR  5590801  1889027  A002,R051,02-00-00,59 ST  \n",
      "1  REGULAR  5590828  1889032  A002,R051,02-00-00,59 ST  \n",
      "2  REGULAR  5590852  1889059  A002,R051,02-00-00,59 ST  \n",
      "3  REGULAR  5590958  1889162  A002,R051,02-00-00,59 ST  \n",
      "4  REGULAR  5591207  1889248  A002,R051,02-00-00,59 ST  \n"
     ]
    }
   ],
   "source": [
    "#Create the keys that is used to make a mask\n",
    "\n",
    "data['id'] = data.iloc[:, 0]\n",
    "for j in range(1,4):\n",
    "        data.ix[:,'id'] += ',' + data.iloc[:,j]\n",
    "        \n",
    "#drop the keys that is \n",
    "mask_key = data['id'].drop_duplicates()\n",
    "print(data.head())"
   ]
  },
  {
   "cell_type": "code",
   "execution_count": 19,
   "metadata": {
    "collapsed": false
   },
   "outputs": [],
   "source": [
    "#Initialize the Delta columns as zeros\n",
    "data['Delta'] = np.zeros(data.shape[0])\n",
    "\n",
    "#temporary function to fill in the deltas by selections\n",
    "def fill_in(mask):\n",
    "    data.loc[mask,'Delta'] = abs((data.loc[mask, 'ENTRIES'] - data.loc[mask, 'ENTRIES'].shift(-1)) + (data.loc[mask, 'EXITS'] - data.loc[mask, 'EXITS'].shift(-1)))"
   ]
  },
  {
   "cell_type": "code",
   "execution_count": 20,
   "metadata": {
    "collapsed": false
   },
   "outputs": [],
   "source": [
    "for s in mask_key:\n",
    "    mask = data.ix[:,'id'] == s\n",
    "    fill_in(mask)"
   ]
  },
  {
   "cell_type": "code",
   "execution_count": 22,
   "metadata": {
    "collapsed": false
   },
   "outputs": [
    {
     "name": "stdout",
     "output_type": "stream",
     "text": [
      "          C/A  UNIT       SCP        STATION LINENAME DIVISION        DATE  \\\n",
      "192896  TRAM2  R469  00-05-00  RIT-ROOSEVELT        R      RIT  03/24/2016   \n",
      "192897  TRAM2  R469  00-05-00  RIT-ROOSEVELT        R      RIT  03/24/2016   \n",
      "192898  TRAM2  R469  00-05-00  RIT-ROOSEVELT        R      RIT  03/25/2016   \n",
      "192899  TRAM2  R469  00-05-00  RIT-ROOSEVELT        R      RIT  03/25/2016   \n",
      "192900  TRAM2  R469  00-05-00  RIT-ROOSEVELT        R      RIT  03/25/2016   \n",
      "192901  TRAM2  R469  00-05-00  RIT-ROOSEVELT        R      RIT  03/25/2016   \n",
      "192902  TRAM2  R469  00-05-00  RIT-ROOSEVELT        R      RIT  03/25/2016   \n",
      "192903  TRAM2  R469  00-05-00  RIT-ROOSEVELT        R      RIT  03/25/2016   \n",
      "192904  TRAM2  R469  00-05-01  RIT-ROOSEVELT        R      RIT  03/19/2016   \n",
      "192905  TRAM2  R469  00-05-01  RIT-ROOSEVELT        R      RIT  03/19/2016   \n",
      "192906  TRAM2  R469  00-05-01  RIT-ROOSEVELT        R      RIT  03/19/2016   \n",
      "192907  TRAM2  R469  00-05-01  RIT-ROOSEVELT        R      RIT  03/19/2016   \n",
      "192908  TRAM2  R469  00-05-01  RIT-ROOSEVELT        R      RIT  03/19/2016   \n",
      "192909  TRAM2  R469  00-05-01  RIT-ROOSEVELT        R      RIT  03/19/2016   \n",
      "192910  TRAM2  R469  00-05-01  RIT-ROOSEVELT        R      RIT  03/20/2016   \n",
      "192911  TRAM2  R469  00-05-01  RIT-ROOSEVELT        R      RIT  03/20/2016   \n",
      "192912  TRAM2  R469  00-05-01  RIT-ROOSEVELT        R      RIT  03/20/2016   \n",
      "192913  TRAM2  R469  00-05-01  RIT-ROOSEVELT        R      RIT  03/20/2016   \n",
      "192914  TRAM2  R469  00-05-01  RIT-ROOSEVELT        R      RIT  03/20/2016   \n",
      "192915  TRAM2  R469  00-05-01  RIT-ROOSEVELT        R      RIT  03/20/2016   \n",
      "192916  TRAM2  R469  00-05-01  RIT-ROOSEVELT        R      RIT  03/21/2016   \n",
      "192917  TRAM2  R469  00-05-01  RIT-ROOSEVELT        R      RIT  03/21/2016   \n",
      "192918  TRAM2  R469  00-05-01  RIT-ROOSEVELT        R      RIT  03/21/2016   \n",
      "192919  TRAM2  R469  00-05-01  RIT-ROOSEVELT        R      RIT  03/21/2016   \n",
      "192920  TRAM2  R469  00-05-01  RIT-ROOSEVELT        R      RIT  03/21/2016   \n",
      "192921  TRAM2  R469  00-05-01  RIT-ROOSEVELT        R      RIT  03/21/2016   \n",
      "192922  TRAM2  R469  00-05-01  RIT-ROOSEVELT        R      RIT  03/22/2016   \n",
      "192923  TRAM2  R469  00-05-01  RIT-ROOSEVELT        R      RIT  03/22/2016   \n",
      "192924  TRAM2  R469  00-05-01  RIT-ROOSEVELT        R      RIT  03/22/2016   \n",
      "192925  TRAM2  R469  00-05-01  RIT-ROOSEVELT        R      RIT  03/22/2016   \n",
      "192926  TRAM2  R469  00-05-01  RIT-ROOSEVELT        R      RIT  03/22/2016   \n",
      "192927  TRAM2  R469  00-05-01  RIT-ROOSEVELT        R      RIT  03/22/2016   \n",
      "192928  TRAM2  R469  00-05-01  RIT-ROOSEVELT        R      RIT  03/23/2016   \n",
      "192929  TRAM2  R469  00-05-01  RIT-ROOSEVELT        R      RIT  03/23/2016   \n",
      "192930  TRAM2  R469  00-05-01  RIT-ROOSEVELT        R      RIT  03/23/2016   \n",
      "192931  TRAM2  R469  00-05-01  RIT-ROOSEVELT        R      RIT  03/23/2016   \n",
      "192932  TRAM2  R469  00-05-01  RIT-ROOSEVELT        R      RIT  03/23/2016   \n",
      "192933  TRAM2  R469  00-05-01  RIT-ROOSEVELT        R      RIT  03/23/2016   \n",
      "192934  TRAM2  R469  00-05-01  RIT-ROOSEVELT        R      RIT  03/24/2016   \n",
      "192935  TRAM2  R469  00-05-01  RIT-ROOSEVELT        R      RIT  03/24/2016   \n",
      "192936  TRAM2  R469  00-05-01  RIT-ROOSEVELT        R      RIT  03/24/2016   \n",
      "192937  TRAM2  R469  00-05-01  RIT-ROOSEVELT        R      RIT  03/24/2016   \n",
      "192938  TRAM2  R469  00-05-01  RIT-ROOSEVELT        R      RIT  03/24/2016   \n",
      "192939  TRAM2  R469  00-05-01  RIT-ROOSEVELT        R      RIT  03/24/2016   \n",
      "192940  TRAM2  R469  00-05-01  RIT-ROOSEVELT        R      RIT  03/25/2016   \n",
      "192941  TRAM2  R469  00-05-01  RIT-ROOSEVELT        R      RIT  03/25/2016   \n",
      "192942  TRAM2  R469  00-05-01  RIT-ROOSEVELT        R      RIT  03/25/2016   \n",
      "192943  TRAM2  R469  00-05-01  RIT-ROOSEVELT        R      RIT  03/25/2016   \n",
      "192944  TRAM2  R469  00-05-01  RIT-ROOSEVELT        R      RIT  03/25/2016   \n",
      "192945  TRAM2  R469  00-05-01  RIT-ROOSEVELT        R      RIT  03/25/2016   \n",
      "\n",
      "            TIME     DESC  ENTRIES  EXITS                                 id  \\\n",
      "192896  17:00:00  REGULAR     2122     62  TRAM2,R469,00-05-00,RIT-ROOSEVELT   \n",
      "192897  21:00:00  REGULAR     2122     62  TRAM2,R469,00-05-00,RIT-ROOSEVELT   \n",
      "192898  01:00:00  REGULAR     2122     62  TRAM2,R469,00-05-00,RIT-ROOSEVELT   \n",
      "192899  05:00:00  REGULAR     2122     62  TRAM2,R469,00-05-00,RIT-ROOSEVELT   \n",
      "192900  09:00:00  REGULAR     2123     62  TRAM2,R469,00-05-00,RIT-ROOSEVELT   \n",
      "192901  13:00:00  REGULAR     2123     62  TRAM2,R469,00-05-00,RIT-ROOSEVELT   \n",
      "192902  17:00:00  REGULAR     2124     62  TRAM2,R469,00-05-00,RIT-ROOSEVELT   \n",
      "192903  21:00:00  REGULAR     2124     62  TRAM2,R469,00-05-00,RIT-ROOSEVELT   \n",
      "192904  01:00:00  REGULAR     5554    234  TRAM2,R469,00-05-01,RIT-ROOSEVELT   \n",
      "192905  05:00:00  REGULAR     5554    234  TRAM2,R469,00-05-01,RIT-ROOSEVELT   \n",
      "192906  09:00:00  REGULAR     5554    234  TRAM2,R469,00-05-01,RIT-ROOSEVELT   \n",
      "192907  13:00:00  REGULAR     5554    234  TRAM2,R469,00-05-01,RIT-ROOSEVELT   \n",
      "192908  17:00:00  REGULAR     5554    234  TRAM2,R469,00-05-01,RIT-ROOSEVELT   \n",
      "192909  21:00:00  REGULAR     5554    234  TRAM2,R469,00-05-01,RIT-ROOSEVELT   \n",
      "192910  01:00:00  REGULAR     5554    234  TRAM2,R469,00-05-01,RIT-ROOSEVELT   \n",
      "192911  05:00:00  REGULAR     5554    234  TRAM2,R469,00-05-01,RIT-ROOSEVELT   \n",
      "192912  09:00:00  REGULAR     5554    234  TRAM2,R469,00-05-01,RIT-ROOSEVELT   \n",
      "192913  13:00:00  REGULAR     5554    234  TRAM2,R469,00-05-01,RIT-ROOSEVELT   \n",
      "192914  17:00:00  REGULAR     5554    234  TRAM2,R469,00-05-01,RIT-ROOSEVELT   \n",
      "192915  21:00:00  REGULAR     5554    234  TRAM2,R469,00-05-01,RIT-ROOSEVELT   \n",
      "192916  01:00:00  REGULAR     5554    234  TRAM2,R469,00-05-01,RIT-ROOSEVELT   \n",
      "192917  05:00:00  REGULAR     5554    234  TRAM2,R469,00-05-01,RIT-ROOSEVELT   \n",
      "192918  09:00:00  REGULAR     5554    234  TRAM2,R469,00-05-01,RIT-ROOSEVELT   \n",
      "192919  13:00:00  REGULAR     5554    234  TRAM2,R469,00-05-01,RIT-ROOSEVELT   \n",
      "192920  17:00:00  REGULAR     5554    234  TRAM2,R469,00-05-01,RIT-ROOSEVELT   \n",
      "192921  21:00:00  REGULAR     5554    234  TRAM2,R469,00-05-01,RIT-ROOSEVELT   \n",
      "192922  01:00:00  REGULAR     5554    234  TRAM2,R469,00-05-01,RIT-ROOSEVELT   \n",
      "192923  05:00:00  REGULAR     5554    234  TRAM2,R469,00-05-01,RIT-ROOSEVELT   \n",
      "192924  09:00:00  REGULAR     5554    234  TRAM2,R469,00-05-01,RIT-ROOSEVELT   \n",
      "192925  13:00:00  REGULAR     5554    234  TRAM2,R469,00-05-01,RIT-ROOSEVELT   \n",
      "192926  17:00:00  REGULAR     5554    235  TRAM2,R469,00-05-01,RIT-ROOSEVELT   \n",
      "192927  21:00:00  REGULAR     5554    235  TRAM2,R469,00-05-01,RIT-ROOSEVELT   \n",
      "192928  01:00:00  REGULAR     5554    235  TRAM2,R469,00-05-01,RIT-ROOSEVELT   \n",
      "192929  05:00:00  REGULAR     5554    235  TRAM2,R469,00-05-01,RIT-ROOSEVELT   \n",
      "192930  09:00:00  REGULAR     5554    235  TRAM2,R469,00-05-01,RIT-ROOSEVELT   \n",
      "192931  13:00:00  REGULAR     5554    235  TRAM2,R469,00-05-01,RIT-ROOSEVELT   \n",
      "192932  17:00:00  REGULAR     5554    235  TRAM2,R469,00-05-01,RIT-ROOSEVELT   \n",
      "192933  21:00:00  REGULAR     5554    235  TRAM2,R469,00-05-01,RIT-ROOSEVELT   \n",
      "192934  01:00:00  REGULAR     5554    235  TRAM2,R469,00-05-01,RIT-ROOSEVELT   \n",
      "192935  05:00:00  REGULAR     5554    235  TRAM2,R469,00-05-01,RIT-ROOSEVELT   \n",
      "192936  09:00:00  REGULAR     5554    235  TRAM2,R469,00-05-01,RIT-ROOSEVELT   \n",
      "192937  13:00:00  REGULAR     5554    235  TRAM2,R469,00-05-01,RIT-ROOSEVELT   \n",
      "192938  17:00:00  REGULAR     5554    235  TRAM2,R469,00-05-01,RIT-ROOSEVELT   \n",
      "192939  21:00:00  REGULAR     5554    235  TRAM2,R469,00-05-01,RIT-ROOSEVELT   \n",
      "192940  01:00:00  REGULAR     5554    235  TRAM2,R469,00-05-01,RIT-ROOSEVELT   \n",
      "192941  05:00:00  REGULAR     5554    235  TRAM2,R469,00-05-01,RIT-ROOSEVELT   \n",
      "192942  09:00:00  REGULAR     5554    236  TRAM2,R469,00-05-01,RIT-ROOSEVELT   \n",
      "192943  13:00:00  REGULAR     5554    236  TRAM2,R469,00-05-01,RIT-ROOSEVELT   \n",
      "192944  17:00:00  REGULAR     5554    236  TRAM2,R469,00-05-01,RIT-ROOSEVELT   \n",
      "192945  21:00:00  REGULAR     5554    236  TRAM2,R469,00-05-01,RIT-ROOSEVELT   \n",
      "\n",
      "        Delta  \n",
      "192896      0  \n",
      "192897      0  \n",
      "192898      0  \n",
      "192899      1  \n",
      "192900      0  \n",
      "192901      1  \n",
      "192902      0  \n",
      "192903    NaN  \n",
      "192904      0  \n",
      "192905      0  \n",
      "192906      0  \n",
      "192907      0  \n",
      "192908      0  \n",
      "192909      0  \n",
      "192910      0  \n",
      "192911      0  \n",
      "192912      0  \n",
      "192913      0  \n",
      "192914      0  \n",
      "192915      0  \n",
      "192916      0  \n",
      "192917      0  \n",
      "192918      0  \n",
      "192919      0  \n",
      "192920      0  \n",
      "192921      0  \n",
      "192922      0  \n",
      "192923      0  \n",
      "192924      0  \n",
      "192925      1  \n",
      "192926      0  \n",
      "192927      0  \n",
      "192928      0  \n",
      "192929      0  \n",
      "192930      0  \n",
      "192931      0  \n",
      "192932      0  \n",
      "192933      0  \n",
      "192934      0  \n",
      "192935      0  \n",
      "192936      0  \n",
      "192937      0  \n",
      "192938      0  \n",
      "192939      0  \n",
      "192940      0  \n",
      "192941      1  \n",
      "192942      0  \n",
      "192943      0  \n",
      "192944      0  \n",
      "192945    NaN  \n"
     ]
    }
   ],
   "source": [
    "#print(data.head(20))\n",
    "print(data.tail(50))"
   ]
  },
  {
   "cell_type": "code",
   "execution_count": null,
   "metadata": {
    "collapsed": false
   },
   "outputs": [],
   "source": []
  },
  {
   "cell_type": "code",
   "execution_count": null,
   "metadata": {
    "collapsed": false
   },
   "outputs": [],
   "source": []
  },
  {
   "cell_type": "code",
   "execution_count": null,
   "metadata": {
    "collapsed": false
   },
   "outputs": [],
   "source": []
  },
  {
   "cell_type": "code",
   "execution_count": null,
   "metadata": {
    "collapsed": true
   },
   "outputs": [],
   "source": []
  }
 ],
 "metadata": {
  "kernelspec": {
   "display_name": "Python 3",
   "language": "python",
   "name": "python3"
  },
  "language_info": {
   "codemirror_mode": {
    "name": "ipython",
    "version": 3
   },
   "file_extension": ".py",
   "mimetype": "text/x-python",
   "name": "python",
   "nbconvert_exporter": "python",
   "pygments_lexer": "ipython3",
   "version": "3.5.1"
  }
 },
 "nbformat": 4,
 "nbformat_minor": 0
}
