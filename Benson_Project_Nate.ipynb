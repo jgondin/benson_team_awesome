{
 "cells": [
  {
   "cell_type": "code",
   "execution_count": 9,
   "metadata": {
    "collapsed": false
   },
   "outputs": [],
   "source": [
    "# imports\n",
    "import csv\n",
    "import urllib\n",
    "import io\n",
    "import numpy as np\n",
    "import pandas as pd\n",
    "data = pd.read_csv('http://web.mta.info/developers/data/nyct/turnstile/turnstile_160326.txt')"
   ]
  },
  {
   "cell_type": "code",
   "execution_count": 10,
   "metadata": {
    "collapsed": false
   },
   "outputs": [
    {
     "data": {
      "text/html": [
       "<div>\n",
       "<table border=\"1\" class=\"dataframe\">\n",
       "  <thead>\n",
       "    <tr style=\"text-align: right;\">\n",
       "      <th></th>\n",
       "      <th>C/A</th>\n",
       "      <th>UNIT</th>\n",
       "      <th>SCP</th>\n",
       "      <th>STATION</th>\n",
       "      <th>LINENAME</th>\n",
       "      <th>DIVISION</th>\n",
       "      <th>DATE</th>\n",
       "      <th>TIME</th>\n",
       "      <th>DESC</th>\n",
       "      <th>ENTRIES</th>\n",
       "      <th>EXITS</th>\n",
       "    </tr>\n",
       "  </thead>\n",
       "  <tbody>\n",
       "    <tr>\n",
       "      <th>0</th>\n",
       "      <td>A002</td>\n",
       "      <td>R051</td>\n",
       "      <td>02-00-00</td>\n",
       "      <td>59 ST</td>\n",
       "      <td>NQR456</td>\n",
       "      <td>BMT</td>\n",
       "      <td>03/19/2016</td>\n",
       "      <td>00:00:00</td>\n",
       "      <td>REGULAR</td>\n",
       "      <td>5590801</td>\n",
       "      <td>1889027</td>\n",
       "    </tr>\n",
       "    <tr>\n",
       "      <th>1</th>\n",
       "      <td>A002</td>\n",
       "      <td>R051</td>\n",
       "      <td>02-00-00</td>\n",
       "      <td>59 ST</td>\n",
       "      <td>NQR456</td>\n",
       "      <td>BMT</td>\n",
       "      <td>03/19/2016</td>\n",
       "      <td>04:00:00</td>\n",
       "      <td>REGULAR</td>\n",
       "      <td>5590828</td>\n",
       "      <td>1889032</td>\n",
       "    </tr>\n",
       "    <tr>\n",
       "      <th>2</th>\n",
       "      <td>A002</td>\n",
       "      <td>R051</td>\n",
       "      <td>02-00-00</td>\n",
       "      <td>59 ST</td>\n",
       "      <td>NQR456</td>\n",
       "      <td>BMT</td>\n",
       "      <td>03/19/2016</td>\n",
       "      <td>08:00:00</td>\n",
       "      <td>REGULAR</td>\n",
       "      <td>5590852</td>\n",
       "      <td>1889059</td>\n",
       "    </tr>\n",
       "    <tr>\n",
       "      <th>3</th>\n",
       "      <td>A002</td>\n",
       "      <td>R051</td>\n",
       "      <td>02-00-00</td>\n",
       "      <td>59 ST</td>\n",
       "      <td>NQR456</td>\n",
       "      <td>BMT</td>\n",
       "      <td>03/19/2016</td>\n",
       "      <td>12:00:00</td>\n",
       "      <td>REGULAR</td>\n",
       "      <td>5590958</td>\n",
       "      <td>1889162</td>\n",
       "    </tr>\n",
       "    <tr>\n",
       "      <th>4</th>\n",
       "      <td>A002</td>\n",
       "      <td>R051</td>\n",
       "      <td>02-00-00</td>\n",
       "      <td>59 ST</td>\n",
       "      <td>NQR456</td>\n",
       "      <td>BMT</td>\n",
       "      <td>03/19/2016</td>\n",
       "      <td>16:00:00</td>\n",
       "      <td>REGULAR</td>\n",
       "      <td>5591207</td>\n",
       "      <td>1889248</td>\n",
       "    </tr>\n",
       "  </tbody>\n",
       "</table>\n",
       "</div>"
      ],
      "text/plain": [
       "    C/A  UNIT       SCP STATION LINENAME DIVISION        DATE      TIME  \\\n",
       "0  A002  R051  02-00-00   59 ST   NQR456      BMT  03/19/2016  00:00:00   \n",
       "1  A002  R051  02-00-00   59 ST   NQR456      BMT  03/19/2016  04:00:00   \n",
       "2  A002  R051  02-00-00   59 ST   NQR456      BMT  03/19/2016  08:00:00   \n",
       "3  A002  R051  02-00-00   59 ST   NQR456      BMT  03/19/2016  12:00:00   \n",
       "4  A002  R051  02-00-00   59 ST   NQR456      BMT  03/19/2016  16:00:00   \n",
       "\n",
       "      DESC  ENTRIES  \\\n",
       "0  REGULAR  5590801   \n",
       "1  REGULAR  5590828   \n",
       "2  REGULAR  5590852   \n",
       "3  REGULAR  5590958   \n",
       "4  REGULAR  5591207   \n",
       "\n",
       "   EXITS                                                                 \n",
       "0                                            1889027                     \n",
       "1                                            1889032                     \n",
       "2                                            1889059                     \n",
       "3                                            1889162                     \n",
       "4                                            1889248                     "
      ]
     },
     "execution_count": 10,
     "metadata": {},
     "output_type": "execute_result"
    }
   ],
   "source": [
    "data.head()"
   ]
  },
  {
   "cell_type": "code",
   "execution_count": 11,
   "metadata": {
    "collapsed": false
   },
   "outputs": [
    {
     "data": {
      "text/plain": [
       "Index(['C/A', 'UNIT', 'SCP', 'STATION', 'LINENAME', 'DIVISION', 'DATE', 'TIME',\n",
       "       'DESC', 'ENTRIES', 'EXITS'],\n",
       "      dtype='object')"
      ]
     },
     "execution_count": 11,
     "metadata": {},
     "output_type": "execute_result"
    }
   ],
   "source": [
    "#Fix last columns\n",
    "data.rename(columns={data.columns[-1]: data.columns[-1].replace(' ','')}, inplace=True)\n",
    "data.columns"
   ]
  },
  {
   "cell_type": "code",
   "execution_count": null,
   "metadata": {
    "collapsed": false
   },
   "outputs": [],
   "source": []
  },
  {
   "cell_type": "code",
   "execution_count": null,
   "metadata": {
    "collapsed": false
   },
   "outputs": [],
   "source": [
    "#data['Delta'] = abs((data['ENTRIES'] - data['ENTRIES'].shift(-1)) + (data['EXITS'] - data['EXITS'].shift(-1)))"
   ]
  },
  {
   "cell_type": "code",
   "execution_count": null,
   "metadata": {
    "collapsed": false
   },
   "outputs": [],
   "source": [
    "#test = data.sort_values(['Delta'])\n"
   ]
  },
  {
   "cell_type": "code",
   "execution_count": null,
   "metadata": {
    "collapsed": false
   },
   "outputs": [],
   "source": [
    "#data[['TIME','DATE']] = pd.to_datetime(data[['TIME','DATE']])\n"
   ]
  },
  {
   "cell_type": "code",
   "execution_count": null,
   "metadata": {
    "collapsed": true
   },
   "outputs": [],
   "source": [
    "#df_night = data[data['TIME' ==  ]"
   ]
  },
  {
   "cell_type": "code",
   "execution_count": null,
   "metadata": {
    "collapsed": false
   },
   "outputs": [],
   "source": [
    "# Aggregate\n",
    "mask_key = data.ix[:,0]\n",
    "for r in range(data.shape[0]):\n",
    "    k = tuple(data.ix[1:2,4:])\n",
    "    if k in fill.keys():\n",
    "        fill[k] += 1\n",
    "    else:\n",
    "        fill[k] = 1\n",
    "fill"
   ]
  },
  {
   "cell_type": "code",
   "execution_count": null,
   "metadata": {
    "collapsed": false
   },
   "outputs": [],
   "source": [
    "import numpy as np\n",
    "tuple(data.ix[1:2,4:])\n",
    "fill"
   ]
  },
  {
   "cell_type": "code",
   "execution_count": 24,
   "metadata": {
    "collapsed": false
   },
   "outputs": [],
   "source": [
    "mask_key = data.ix[:,0]"
   ]
  },
  {
   "cell_type": "code",
   "execution_count": 20,
   "metadata": {
    "collapsed": false
   },
   "outputs": [
    {
     "data": {
      "text/plain": [
       "array('', \n",
       "      dtype='<U1')"
      ]
     },
     "execution_count": 20,
     "metadata": {},
     "output_type": "execute_result"
    }
   ],
   "source": [
    "np.array('')"
   ]
  },
  {
   "cell_type": "code",
   "execution_count": 25,
   "metadata": {
    "collapsed": false
   },
   "outputs": [
    {
     "data": {
      "text/plain": [
       "0          A002\n",
       "1          A002\n",
       "2          A002\n",
       "3          A002\n",
       "4          A002\n",
       "5          A002\n",
       "6          A002\n",
       "7          A002\n",
       "8          A002\n",
       "9          A002\n",
       "10         A002\n",
       "11         A002\n",
       "12         A002\n",
       "13         A002\n",
       "14         A002\n",
       "15         A002\n",
       "16         A002\n",
       "17         A002\n",
       "18         A002\n",
       "19         A002\n",
       "20         A002\n",
       "21         A002\n",
       "22         A002\n",
       "23         A002\n",
       "24         A002\n",
       "25         A002\n",
       "26         A002\n",
       "27         A002\n",
       "28         A002\n",
       "29         A002\n",
       "          ...  \n",
       "192916    TRAM2\n",
       "192917    TRAM2\n",
       "192918    TRAM2\n",
       "192919    TRAM2\n",
       "192920    TRAM2\n",
       "192921    TRAM2\n",
       "192922    TRAM2\n",
       "192923    TRAM2\n",
       "192924    TRAM2\n",
       "192925    TRAM2\n",
       "192926    TRAM2\n",
       "192927    TRAM2\n",
       "192928    TRAM2\n",
       "192929    TRAM2\n",
       "192930    TRAM2\n",
       "192931    TRAM2\n",
       "192932    TRAM2\n",
       "192933    TRAM2\n",
       "192934    TRAM2\n",
       "192935    TRAM2\n",
       "192936    TRAM2\n",
       "192937    TRAM2\n",
       "192938    TRAM2\n",
       "192939    TRAM2\n",
       "192940    TRAM2\n",
       "192941    TRAM2\n",
       "192942    TRAM2\n",
       "192943    TRAM2\n",
       "192944    TRAM2\n",
       "192945    TRAM2\n",
       "Name: C/A, dtype: object"
      ]
     },
     "execution_count": 25,
     "metadata": {},
     "output_type": "execute_result"
    }
   ],
   "source": [
    "mask_key"
   ]
  },
  {
   "cell_type": "code",
   "execution_count": null,
   "metadata": {
    "collapsed": true
   },
   "outputs": [],
   "source": []
  }
 ],
 "metadata": {
  "kernelspec": {
   "display_name": "Python 3",
   "language": "python",
   "name": "python3"
  },
  "language_info": {
   "codemirror_mode": {
    "name": "ipython",
    "version": 3
   },
   "file_extension": ".py",
   "mimetype": "text/x-python",
   "name": "python",
   "nbconvert_exporter": "python",
   "pygments_lexer": "ipython3",
   "version": "3.5.1"
  }
 },
 "nbformat": 4,
 "nbformat_minor": 0
}
