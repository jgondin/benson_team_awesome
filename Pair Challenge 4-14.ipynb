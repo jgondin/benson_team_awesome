{
 "cells": [
  {
   "cell_type": "code",
   "execution_count": 29,
   "metadata": {
    "collapsed": true
   },
   "outputs": [],
   "source": [
    "def prime_lookup(num):\n",
    "    factors = [1]\n",
    "    bad_factors = [num] \n",
    "    for i in range(2,int(num/2)):\n",
    "        if num % i == 0:\n",
    "            factors.append(i)\n",
    "            bad_factors.append(num / i)\n",
    "        if bad_factors[-1] < factors[-1]:\n",
    "            break\n",
    "    short_factors = list(set(factors) - set(bad_factors))\n",
    "#     for i in short_factors:\n",
    "#         counter = 0\n",
    "# #         if i % short_factors[counter:: -1]:\n",
    "# #             factors.remove(i)\n",
    "    print short_factors\n",
    "    print factors\n",
    "    print bad_factors\n",
    "    \n",
    "    "
   ]
  },
  {
   "cell_type": "code",
   "execution_count": 30,
   "metadata": {
    "collapsed": false
   },
   "outputs": [
    {
     "name": "stdout",
     "output_type": "stream",
     "text": [
      "[1, 35, 5, 65, 7, 13, 29]\n",
      "[1, 5, 7, 13, 29, 35, 65, 91, 145]\n",
      "[13195, 2639, 1885, 1015, 455, 377, 203, 145, 91]\n"
     ]
    }
   ],
   "source": [
    "prime_lookup(13195)"
   ]
  },
  {
   "cell_type": "code",
   "execution_count": null,
   "metadata": {
    "collapsed": true
   },
   "outputs": [],
   "source": []
  }
 ],
 "metadata": {
  "kernelspec": {
   "display_name": "Python 2",
   "language": "python",
   "name": "python2"
  },
  "language_info": {
   "codemirror_mode": {
    "name": "ipython",
    "version": 2
   },
   "file_extension": ".py",
   "mimetype": "text/x-python",
   "name": "python",
   "nbconvert_exporter": "python",
   "pygments_lexer": "ipython2",
   "version": "2.7.11"
  }
 },
 "nbformat": 4,
 "nbformat_minor": 0
}
