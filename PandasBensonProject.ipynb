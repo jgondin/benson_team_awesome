{
 "cells": [
  {
   "cell_type": "code",
   "execution_count": 1,
   "metadata": {
    "collapsed": true
   },
   "outputs": [],
   "source": [
    "import pandas as pd\n",
    "from __future__ import division\n",
    "import csv\n",
    "from datetime import datetime\n",
    "from collections import Counter"
   ]
  },
  {
   "cell_type": "code",
   "execution_count": 2,
   "metadata": {
    "collapsed": true
   },
   "outputs": [],
   "source": [
    "import matplotlib.pyplot as plt"
   ]
  },
  {
   "cell_type": "markdown",
   "metadata": {},
   "source": [
    "import stuff"
   ]
  },
  {
   "cell_type": "code",
   "execution_count": 3,
   "metadata": {
    "collapsed": true
   },
   "outputs": [],
   "source": [
    "data = pd.read_csv('http://web.mta.info/developers/data/nyct/turnstile/turnstile_160402.txt')"
   ]
  },
  {
   "cell_type": "markdown",
   "metadata": {},
   "source": [
    "read data in + merge data"
   ]
  },
  {
   "cell_type": "code",
   "execution_count": 4,
   "metadata": {
    "collapsed": true
   },
   "outputs": [],
   "source": [
    "data.columns = data.columns.str.replace(' ','')"
   ]
  },
  {
   "cell_type": "markdown",
   "metadata": {},
   "source": [
    "remove spaces from exits column"
   ]
  },
  {
   "cell_type": "code",
   "execution_count": 5,
   "metadata": {
    "collapsed": false
   },
   "outputs": [],
   "source": [
    "data[\"DATETIME\"] = data[\"DATE\"] + ' ' + data[\"TIME\"]"
   ]
  },
  {
   "cell_type": "code",
   "execution_count": 6,
   "metadata": {
    "collapsed": false
   },
   "outputs": [],
   "source": [
    "data['DATETIME'] = pd.to_datetime(data.DATETIME, format='%m/%d/%Y %H:%M:%S')"
   ]
  },
  {
   "cell_type": "markdown",
   "metadata": {},
   "source": [
    "create datetime and set format"
   ]
  },
  {
   "cell_type": "code",
   "execution_count": 7,
   "metadata": {
    "collapsed": true
   },
   "outputs": [],
   "source": [
    "data['HOUR'] = data.DATETIME.apply(lambda x: x.hour)"
   ]
  },
  {
   "cell_type": "code",
   "execution_count": 8,
   "metadata": {
    "collapsed": true
   },
   "outputs": [],
   "source": [
    "data['WEEKDAY']=data.DATETIME.apply(lambda x: 'Weekday' if 0<=x.weekday()<5 else 'Weekend')\n",
    "\n",
    "#same as above in 2 steps\n",
    "#weekdaycheck = lambda x: 'Weekday' if 0<=x.weekday()<5 else 'Weekend'\n",
    "#data['WEEKDAY']=data.DATETIME.apply(weekdaycheck)\n"
   ]
  },
  {
   "cell_type": "code",
   "execution_count": 9,
   "metadata": {
    "collapsed": true
   },
   "outputs": [],
   "source": [
    "daysofweek = ['Monday','Tuesday','Wednesday','Thursday','Friday','Saturday','Sunday']\n",
    "\n",
    "whatdayofweek = lambda x: daysofweek[x.weekday()]\n",
    "\n",
    "\n",
    "data['DAYOFWEEK'] = data.DATETIME.apply(whatdayofweek)\n",
    "#data['DAYOFWEEKVALUE'] = data.DATETIME.apply(dayofweekvalue)"
   ]
  },
  {
   "cell_type": "markdown",
   "metadata": {},
   "source": [
    "create day of week by applying function to DATETIME"
   ]
  },
  {
   "cell_type": "code",
   "execution_count": 10,
   "metadata": {
    "collapsed": false
   },
   "outputs": [],
   "source": [
    "data['dENTRIES'] = data.ENTRIES.shift(-1) - data.ENTRIES\n",
    "data['dEXITS'] = data.EXITS.shift(-1) - data.EXITS\n",
    "data['dTOTAL'] = data.dENTRIES+ data.dEXITS\n",
    "\n",
    "###for considering deltas as time(i+1)-time(i)"
   ]
  },
  {
   "cell_type": "markdown",
   "metadata": {},
   "source": [
    "create deltas by shifting from one above"
   ]
  },
  {
   "cell_type": "code",
   "execution_count": 11,
   "metadata": {
    "collapsed": true
   },
   "outputs": [],
   "source": [
    "#data['dENTRIES'] = data.ENTRIES - data.ENTRIES.shift(1)\n",
    "#data['dEXITS'] = data.EXITS - data.EXITS.shift(1)\n",
    "#data['dTOTAL'] = data.dENTRIES+ data.dEXITS\n",
    "\n",
    "###this is for considering deltas as time(i)-time(i-1)"
   ]
  },
  {
   "cell_type": "code",
   "execution_count": 12,
   "metadata": {
    "collapsed": false
   },
   "outputs": [],
   "source": [
    "datatest = data[(data.HOUR ==0)|(data.HOUR ==1)]\n",
    "# same as mask"
   ]
  },
  {
   "cell_type": "markdown",
   "metadata": {},
   "source": [
    "filter based on time we care about"
   ]
  },
  {
   "cell_type": "code",
   "execution_count": 13,
   "metadata": {
    "collapsed": false
   },
   "outputs": [],
   "source": [
    "datatest2 = datatest[(datatest.dENTRIES >= 0) & (datatest.dENTRIES <=5000) & (datatest.dEXITS >= 0) & (datatest.dEXITS <=5000)]\n",
    "# mask2 = (datatest.dENTRIES >= 0) & (datatest.dENTRIES <=5000) & (datatest.dEXITS >= 0) & (datatest.dEXITS <=5000)\n"
   ]
  },
  {
   "cell_type": "markdown",
   "metadata": {},
   "source": [
    "filter a second time based on change in deltas to account for switching machine/station etc.  \n",
    "Lose out on 29835 - 29522 = 313 total entries  \n",
    "313 is 1.05% of our data that we lose"
   ]
  },
  {
   "cell_type": "code",
   "execution_count": 14,
   "metadata": {
    "collapsed": false
   },
   "outputs": [],
   "source": [
    "final_weekday_or_end = datatest2.groupby([datatest2.WEEKDAY, datatest2.STATION]).sum()"
   ]
  },
  {
   "cell_type": "code",
   "execution_count": 15,
   "metadata": {
    "collapsed": false
   },
   "outputs": [],
   "source": [
    "weekend_or_day_final =  (final_weekday_or_end\n",
    "    .reset_index()\n",
    "    .sort_values([\"WEEKDAY\", \"dTOTAL\"], ascending=[True, False])\n",
    ")"
   ]
  },
  {
   "cell_type": "code",
   "execution_count": 16,
   "metadata": {
    "collapsed": false
   },
   "outputs": [],
   "source": [
    "weekend_or_day_final = weekend_or_day_final.drop(['ENTRIES', 'EXITS', 'HOUR', 'dENTRIES', 'dEXITS'],1)"
   ]
  },
  {
   "cell_type": "code",
   "execution_count": 17,
   "metadata": {
    "collapsed": false
   },
   "outputs": [],
   "source": [
    "for r in range(weekend_or_day_final.shape[0]):\n",
    "    if weekend_or_day_final.ix[r,'WEEKDAY'] =='Weekday':\n",
    "        weekend_or_day_final.ix[r,'dTOTALACTUAL'] = weekend_or_day_final.ix[r, 'dTOTAL']/5\n",
    "    else:\n",
    "        weekend_or_day_final.ix[r,'dTOTALACTUAL'] = weekend_or_day_final.ix[r, 'dTOTAL']/2"
   ]
  },
  {
   "cell_type": "code",
   "execution_count": 18,
   "metadata": {
    "collapsed": false
   },
   "outputs": [],
   "source": [
    "weekend_or_day_final = weekend_or_day_final.drop(['dTOTAL'],1)\n"
   ]
  },
  {
   "cell_type": "code",
   "execution_count": 19,
   "metadata": {
    "collapsed": false
   },
   "outputs": [
    {
     "data": {
      "text/html": [
       "<div>\n",
       "<table border=\"1\" class=\"dataframe\">\n",
       "  <thead>\n",
       "    <tr style=\"text-align: right;\">\n",
       "      <th></th>\n",
       "      <th>WEEKDAY</th>\n",
       "      <th>STATION</th>\n",
       "      <th>dTOTALACTUAL</th>\n",
       "    </tr>\n",
       "  </thead>\n",
       "  <tbody>\n",
       "    <tr>\n",
       "      <th>345</th>\n",
       "      <td>Weekday</td>\n",
       "      <td>TIMES SQ-42 ST</td>\n",
       "      <td>3975.0</td>\n",
       "    </tr>\n",
       "    <tr>\n",
       "      <th>59</th>\n",
       "      <td>Weekday</td>\n",
       "      <td>34 ST-HERALD SQ</td>\n",
       "      <td>2582.4</td>\n",
       "    </tr>\n",
       "    <tr>\n",
       "      <th>251</th>\n",
       "      <td>Weekday</td>\n",
       "      <td>JKSN HT-ROOSVLT</td>\n",
       "      <td>2492.8</td>\n",
       "    </tr>\n",
       "    <tr>\n",
       "      <th>61</th>\n",
       "      <td>Weekday</td>\n",
       "      <td>34 ST-PENN STA</td>\n",
       "      <td>2447.4</td>\n",
       "    </tr>\n",
       "    <tr>\n",
       "      <th>9</th>\n",
       "      <td>Weekday</td>\n",
       "      <td>125 ST</td>\n",
       "      <td>2416.4</td>\n",
       "    </tr>\n",
       "    <tr>\n",
       "      <th>227</th>\n",
       "      <td>Weekday</td>\n",
       "      <td>GRD CNTRL-42 ST</td>\n",
       "      <td>2164.0</td>\n",
       "    </tr>\n",
       "    <tr>\n",
       "      <th>111</th>\n",
       "      <td>Weekday</td>\n",
       "      <td>96 ST</td>\n",
       "      <td>2130.6</td>\n",
       "    </tr>\n",
       "    <tr>\n",
       "      <th>14</th>\n",
       "      <td>Weekday</td>\n",
       "      <td>14 ST-UNION SQ</td>\n",
       "      <td>1863.6</td>\n",
       "    </tr>\n",
       "    <tr>\n",
       "      <th>46</th>\n",
       "      <td>Weekday</td>\n",
       "      <td>23 ST</td>\n",
       "      <td>1818.6</td>\n",
       "    </tr>\n",
       "    <tr>\n",
       "      <th>84</th>\n",
       "      <td>Weekday</td>\n",
       "      <td>59 ST COLUMBUS</td>\n",
       "      <td>1759.4</td>\n",
       "    </tr>\n",
       "    <tr>\n",
       "      <th>15</th>\n",
       "      <td>Weekday</td>\n",
       "      <td>145 ST</td>\n",
       "      <td>1745.8</td>\n",
       "    </tr>\n",
       "    <tr>\n",
       "      <th>13</th>\n",
       "      <td>Weekday</td>\n",
       "      <td>14 ST</td>\n",
       "      <td>1736.8</td>\n",
       "    </tr>\n",
       "    <tr>\n",
       "      <th>107</th>\n",
       "      <td>Weekday</td>\n",
       "      <td>86 ST</td>\n",
       "      <td>1718.6</td>\n",
       "    </tr>\n",
       "    <tr>\n",
       "      <th>76</th>\n",
       "      <td>Weekday</td>\n",
       "      <td>50 ST</td>\n",
       "      <td>1660.8</td>\n",
       "    </tr>\n",
       "    <tr>\n",
       "      <th>211</th>\n",
       "      <td>Weekday</td>\n",
       "      <td>FLUSHING-MAIN</td>\n",
       "      <td>1654.2</td>\n",
       "    </tr>\n",
       "    <tr>\n",
       "      <th>83</th>\n",
       "      <td>Weekday</td>\n",
       "      <td>59 ST</td>\n",
       "      <td>1630.6</td>\n",
       "    </tr>\n",
       "    <tr>\n",
       "      <th>246</th>\n",
       "      <td>Weekday</td>\n",
       "      <td>JAMAICA CENTER</td>\n",
       "      <td>1551.0</td>\n",
       "    </tr>\n",
       "    <tr>\n",
       "      <th>177</th>\n",
       "      <td>Weekday</td>\n",
       "      <td>CHURCH AV</td>\n",
       "      <td>1544.8</td>\n",
       "    </tr>\n",
       "    <tr>\n",
       "      <th>72</th>\n",
       "      <td>Weekday</td>\n",
       "      <td>47-50 STS ROCK</td>\n",
       "      <td>1341.6</td>\n",
       "    </tr>\n",
       "    <tr>\n",
       "      <th>143</th>\n",
       "      <td>Weekday</td>\n",
       "      <td>BEDFORD AV</td>\n",
       "      <td>1315.6</td>\n",
       "    </tr>\n",
       "    <tr>\n",
       "      <th>354</th>\n",
       "      <td>Weekday</td>\n",
       "      <td>W 4 ST-WASH SQ</td>\n",
       "      <td>1258.4</td>\n",
       "    </tr>\n",
       "    <tr>\n",
       "      <th>2</th>\n",
       "      <td>Weekday</td>\n",
       "      <td>103 ST-CORONA</td>\n",
       "      <td>1177.8</td>\n",
       "    </tr>\n",
       "    <tr>\n",
       "      <th>120</th>\n",
       "      <td>Weekday</td>\n",
       "      <td>ATL AV-BARCLAY</td>\n",
       "      <td>1177.6</td>\n",
       "    </tr>\n",
       "    <tr>\n",
       "      <th>340</th>\n",
       "      <td>Weekday</td>\n",
       "      <td>SUTPHIN-ARCHER</td>\n",
       "      <td>1163.2</td>\n",
       "    </tr>\n",
       "    <tr>\n",
       "      <th>68</th>\n",
       "      <td>Weekday</td>\n",
       "      <td>42 ST-PORT AUTH</td>\n",
       "      <td>1075.2</td>\n",
       "    </tr>\n",
       "    <tr>\n",
       "      <th>253</th>\n",
       "      <td>Weekday</td>\n",
       "      <td>JUNCTION BLVD</td>\n",
       "      <td>1069.8</td>\n",
       "    </tr>\n",
       "    <tr>\n",
       "      <th>0</th>\n",
       "      <td>Weekday</td>\n",
       "      <td>1 AV</td>\n",
       "      <td>1029.0</td>\n",
       "    </tr>\n",
       "    <tr>\n",
       "      <th>67</th>\n",
       "      <td>Weekday</td>\n",
       "      <td>42 ST-BRYANT PK</td>\n",
       "      <td>1024.6</td>\n",
       "    </tr>\n",
       "    <tr>\n",
       "      <th>190</th>\n",
       "      <td>Weekday</td>\n",
       "      <td>CROWN HTS-UTICA</td>\n",
       "      <td>1006.8</td>\n",
       "    </tr>\n",
       "    <tr>\n",
       "      <th>282</th>\n",
       "      <td>Weekday</td>\n",
       "      <td>MYRTLE-WYCKOFF</td>\n",
       "      <td>985.8</td>\n",
       "    </tr>\n",
       "    <tr>\n",
       "      <th>...</th>\n",
       "      <td>...</td>\n",
       "      <td>...</td>\n",
       "      <td>...</td>\n",
       "    </tr>\n",
       "    <tr>\n",
       "      <th>507</th>\n",
       "      <td>Weekend</td>\n",
       "      <td>BEACH 44 ST</td>\n",
       "      <td>79.0</td>\n",
       "    </tr>\n",
       "    <tr>\n",
       "      <th>529</th>\n",
       "      <td>Weekend</td>\n",
       "      <td>BRONX PARK EAST</td>\n",
       "      <td>77.5</td>\n",
       "    </tr>\n",
       "    <tr>\n",
       "      <th>466</th>\n",
       "      <td>Weekend</td>\n",
       "      <td>75 AV</td>\n",
       "      <td>72.0</td>\n",
       "    </tr>\n",
       "    <tr>\n",
       "      <th>548</th>\n",
       "      <td>Weekend</td>\n",
       "      <td>CITY HALL</td>\n",
       "      <td>70.0</td>\n",
       "    </tr>\n",
       "    <tr>\n",
       "      <th>630</th>\n",
       "      <td>Weekend</td>\n",
       "      <td>LACKAWANNA</td>\n",
       "      <td>68.5</td>\n",
       "    </tr>\n",
       "    <tr>\n",
       "      <th>693</th>\n",
       "      <td>Weekend</td>\n",
       "      <td>ROCKAWAY PARK B</td>\n",
       "      <td>68.5</td>\n",
       "    </tr>\n",
       "    <tr>\n",
       "      <th>653</th>\n",
       "      <td>Weekend</td>\n",
       "      <td>NECK RD</td>\n",
       "      <td>67.0</td>\n",
       "    </tr>\n",
       "    <tr>\n",
       "      <th>510</th>\n",
       "      <td>Weekend</td>\n",
       "      <td>BEACH 90 ST</td>\n",
       "      <td>66.5</td>\n",
       "    </tr>\n",
       "    <tr>\n",
       "      <th>490</th>\n",
       "      <td>Weekend</td>\n",
       "      <td>ATLANTIC AV</td>\n",
       "      <td>63.0</td>\n",
       "    </tr>\n",
       "    <tr>\n",
       "      <th>418</th>\n",
       "      <td>Weekend</td>\n",
       "      <td>238 ST</td>\n",
       "      <td>58.0</td>\n",
       "    </tr>\n",
       "    <tr>\n",
       "      <th>561</th>\n",
       "      <td>Weekend</td>\n",
       "      <td>CYPRESS HILLS</td>\n",
       "      <td>55.5</td>\n",
       "    </tr>\n",
       "    <tr>\n",
       "      <th>723</th>\n",
       "      <td>Weekend</td>\n",
       "      <td>W 8 ST-AQUARIUM</td>\n",
       "      <td>53.0</td>\n",
       "    </tr>\n",
       "    <tr>\n",
       "      <th>566</th>\n",
       "      <td>Weekend</td>\n",
       "      <td>E 143/ST MARY'S</td>\n",
       "      <td>51.0</td>\n",
       "    </tr>\n",
       "    <tr>\n",
       "      <th>449</th>\n",
       "      <td>Weekend</td>\n",
       "      <td>55 ST</td>\n",
       "      <td>49.0</td>\n",
       "    </tr>\n",
       "    <tr>\n",
       "      <th>498</th>\n",
       "      <td>Weekend</td>\n",
       "      <td>AVENUE X</td>\n",
       "      <td>48.0</td>\n",
       "    </tr>\n",
       "    <tr>\n",
       "      <th>564</th>\n",
       "      <td>Weekend</td>\n",
       "      <td>DITMAS AV</td>\n",
       "      <td>47.0</td>\n",
       "    </tr>\n",
       "    <tr>\n",
       "      <th>641</th>\n",
       "      <td>Weekend</td>\n",
       "      <td>METS-WILLETS PT</td>\n",
       "      <td>45.0</td>\n",
       "    </tr>\n",
       "    <tr>\n",
       "      <th>503</th>\n",
       "      <td>Weekend</td>\n",
       "      <td>BAYCHESTER AV</td>\n",
       "      <td>44.5</td>\n",
       "    </tr>\n",
       "    <tr>\n",
       "      <th>500</th>\n",
       "      <td>Weekend</td>\n",
       "      <td>BAY 50 ST</td>\n",
       "      <td>42.0</td>\n",
       "    </tr>\n",
       "    <tr>\n",
       "      <th>646</th>\n",
       "      <td>Weekend</td>\n",
       "      <td>MORRIS PARK</td>\n",
       "      <td>42.0</td>\n",
       "    </tr>\n",
       "    <tr>\n",
       "      <th>511</th>\n",
       "      <td>Weekend</td>\n",
       "      <td>BEACH 98 ST</td>\n",
       "      <td>41.0</td>\n",
       "    </tr>\n",
       "    <tr>\n",
       "      <th>472</th>\n",
       "      <td>Weekend</td>\n",
       "      <td>80 ST</td>\n",
       "      <td>38.5</td>\n",
       "    </tr>\n",
       "    <tr>\n",
       "      <th>522</th>\n",
       "      <td>Weekend</td>\n",
       "      <td>BOWLING GREEN</td>\n",
       "      <td>37.0</td>\n",
       "    </tr>\n",
       "    <tr>\n",
       "      <th>492</th>\n",
       "      <td>Weekend</td>\n",
       "      <td>AVENUE I</td>\n",
       "      <td>35.5</td>\n",
       "    </tr>\n",
       "    <tr>\n",
       "      <th>654</th>\n",
       "      <td>Weekend</td>\n",
       "      <td>NEPTUNE AV</td>\n",
       "      <td>20.0</td>\n",
       "    </tr>\n",
       "    <tr>\n",
       "      <th>601</th>\n",
       "      <td>Weekend</td>\n",
       "      <td>HARLEM 148 ST</td>\n",
       "      <td>16.5</td>\n",
       "    </tr>\n",
       "    <tr>\n",
       "      <th>690</th>\n",
       "      <td>Weekend</td>\n",
       "      <td>RIT-ROOSEVELT</td>\n",
       "      <td>16.0</td>\n",
       "    </tr>\n",
       "    <tr>\n",
       "      <th>504</th>\n",
       "      <td>Weekend</td>\n",
       "      <td>BEACH 105 ST</td>\n",
       "      <td>15.5</td>\n",
       "    </tr>\n",
       "    <tr>\n",
       "      <th>525</th>\n",
       "      <td>Weekend</td>\n",
       "      <td>BROAD CHANNEL</td>\n",
       "      <td>13.0</td>\n",
       "    </tr>\n",
       "    <tr>\n",
       "      <th>661</th>\n",
       "      <td>Weekend</td>\n",
       "      <td>NEWARK C</td>\n",
       "      <td>0.0</td>\n",
       "    </tr>\n",
       "  </tbody>\n",
       "</table>\n",
       "<p>737 rows × 3 columns</p>\n",
       "</div>"
      ],
      "text/plain": [
       "     WEEKDAY          STATION  dTOTALACTUAL\n",
       "345  Weekday   TIMES SQ-42 ST        3975.0\n",
       "59   Weekday  34 ST-HERALD SQ        2582.4\n",
       "251  Weekday  JKSN HT-ROOSVLT        2492.8\n",
       "61   Weekday   34 ST-PENN STA        2447.4\n",
       "9    Weekday           125 ST        2416.4\n",
       "227  Weekday  GRD CNTRL-42 ST        2164.0\n",
       "111  Weekday            96 ST        2130.6\n",
       "14   Weekday   14 ST-UNION SQ        1863.6\n",
       "46   Weekday            23 ST        1818.6\n",
       "84   Weekday   59 ST COLUMBUS        1759.4\n",
       "15   Weekday           145 ST        1745.8\n",
       "13   Weekday            14 ST        1736.8\n",
       "107  Weekday            86 ST        1718.6\n",
       "76   Weekday            50 ST        1660.8\n",
       "211  Weekday    FLUSHING-MAIN        1654.2\n",
       "83   Weekday            59 ST        1630.6\n",
       "246  Weekday   JAMAICA CENTER        1551.0\n",
       "177  Weekday        CHURCH AV        1544.8\n",
       "72   Weekday   47-50 STS ROCK        1341.6\n",
       "143  Weekday       BEDFORD AV        1315.6\n",
       "354  Weekday   W 4 ST-WASH SQ        1258.4\n",
       "2    Weekday    103 ST-CORONA        1177.8\n",
       "120  Weekday   ATL AV-BARCLAY        1177.6\n",
       "340  Weekday   SUTPHIN-ARCHER        1163.2\n",
       "68   Weekday  42 ST-PORT AUTH        1075.2\n",
       "253  Weekday    JUNCTION BLVD        1069.8\n",
       "0    Weekday             1 AV        1029.0\n",
       "67   Weekday  42 ST-BRYANT PK        1024.6\n",
       "190  Weekday  CROWN HTS-UTICA        1006.8\n",
       "282  Weekday   MYRTLE-WYCKOFF         985.8\n",
       "..       ...              ...           ...\n",
       "507  Weekend      BEACH 44 ST          79.0\n",
       "529  Weekend  BRONX PARK EAST          77.5\n",
       "466  Weekend            75 AV          72.0\n",
       "548  Weekend        CITY HALL          70.0\n",
       "630  Weekend       LACKAWANNA          68.5\n",
       "693  Weekend  ROCKAWAY PARK B          68.5\n",
       "653  Weekend          NECK RD          67.0\n",
       "510  Weekend      BEACH 90 ST          66.5\n",
       "490  Weekend      ATLANTIC AV          63.0\n",
       "418  Weekend           238 ST          58.0\n",
       "561  Weekend    CYPRESS HILLS          55.5\n",
       "723  Weekend  W 8 ST-AQUARIUM          53.0\n",
       "566  Weekend  E 143/ST MARY'S          51.0\n",
       "449  Weekend            55 ST          49.0\n",
       "498  Weekend         AVENUE X          48.0\n",
       "564  Weekend        DITMAS AV          47.0\n",
       "641  Weekend  METS-WILLETS PT          45.0\n",
       "503  Weekend    BAYCHESTER AV          44.5\n",
       "500  Weekend        BAY 50 ST          42.0\n",
       "646  Weekend      MORRIS PARK          42.0\n",
       "511  Weekend      BEACH 98 ST          41.0\n",
       "472  Weekend            80 ST          38.5\n",
       "522  Weekend    BOWLING GREEN          37.0\n",
       "492  Weekend         AVENUE I          35.5\n",
       "654  Weekend       NEPTUNE AV          20.0\n",
       "601  Weekend    HARLEM 148 ST          16.5\n",
       "690  Weekend    RIT-ROOSEVELT          16.0\n",
       "504  Weekend     BEACH 105 ST          15.5\n",
       "525  Weekend    BROAD CHANNEL          13.0\n",
       "661  Weekend         NEWARK C           0.0\n",
       "\n",
       "[737 rows x 3 columns]"
      ]
     },
     "execution_count": 19,
     "metadata": {},
     "output_type": "execute_result"
    }
   ],
   "source": [
    "weekend_or_day_final.head()"
   ]
  },
  {
   "cell_type": "markdown",
   "metadata": {},
   "source": [
    "weekend_or_day_final is the FINAL dataframe for weekday vs weekend"
   ]
  },
  {
   "cell_type": "code",
   "execution_count": 21,
   "metadata": {
    "collapsed": false
   },
   "outputs": [],
   "source": [
    "finaldayofweek = datatest2.groupby([datatest2.DAYOFWEEK,datatest2.STATION]).sum()"
   ]
  },
  {
   "cell_type": "code",
   "execution_count": 22,
   "metadata": {
    "collapsed": false
   },
   "outputs": [],
   "source": [
    "day_of_week = finaldayofweek.reset_index()"
   ]
  },
  {
   "cell_type": "code",
   "execution_count": 23,
   "metadata": {
    "collapsed": true
   },
   "outputs": [],
   "source": [
    "whatdayindex = lambda x: daysofweek.index(x)"
   ]
  },
  {
   "cell_type": "code",
   "execution_count": 24,
   "metadata": {
    "collapsed": false
   },
   "outputs": [],
   "source": [
    "day_of_week['DAYOFWEEKVALUE'] = day_of_week.DAYOFWEEK.apply(whatdayindex)  \n",
    "\n",
    "\n",
    "day_of_week_final = day_of_week.sort_values(['DAYOFWEEKVALUE','dTOTAL'], ascending = [True, False])\n",
    "#data['HOUR'] = data.DATETIME.apply(lambda x: x.hour)"
   ]
  },
  {
   "cell_type": "code",
   "execution_count": 25,
   "metadata": {
    "collapsed": true
   },
   "outputs": [],
   "source": [
    "day_of_week_final = day_of_week_final.drop(['ENTRIES', 'EXITS', 'HOUR', 'dENTRIES', 'dEXITS', 'DAYOFWEEKVALUE'],1)\n",
    "\n",
    "#df = df.drop('column_name', 1)"
   ]
  },
  {
   "cell_type": "code",
   "execution_count": 26,
   "metadata": {
    "collapsed": false
   },
   "outputs": [
    {
     "data": {
      "text/html": [
       "<div>\n",
       "<table border=\"1\" class=\"dataframe\">\n",
       "  <thead>\n",
       "    <tr style=\"text-align: right;\">\n",
       "      <th></th>\n",
       "      <th>DAYOFWEEK</th>\n",
       "      <th>STATION</th>\n",
       "      <th>dTOTAL</th>\n",
       "    </tr>\n",
       "  </thead>\n",
       "  <tbody>\n",
       "    <tr>\n",
       "      <th>713</th>\n",
       "      <td>Monday</td>\n",
       "      <td>TIMES SQ-42 ST</td>\n",
       "      <td>3943</td>\n",
       "    </tr>\n",
       "    <tr>\n",
       "      <th>377</th>\n",
       "      <td>Monday</td>\n",
       "      <td>125 ST</td>\n",
       "      <td>2314</td>\n",
       "    </tr>\n",
       "    <tr>\n",
       "      <th>429</th>\n",
       "      <td>Monday</td>\n",
       "      <td>34 ST-PENN STA</td>\n",
       "      <td>2184</td>\n",
       "    </tr>\n",
       "    <tr>\n",
       "      <th>619</th>\n",
       "      <td>Monday</td>\n",
       "      <td>JKSN HT-ROOSVLT</td>\n",
       "      <td>2111</td>\n",
       "    </tr>\n",
       "    <tr>\n",
       "      <th>383</th>\n",
       "      <td>Monday</td>\n",
       "      <td>145 ST</td>\n",
       "      <td>1841</td>\n",
       "    </tr>\n",
       "  </tbody>\n",
       "</table>\n",
       "</div>"
      ],
      "text/plain": [
       "    DAYOFWEEK          STATION  dTOTAL\n",
       "713    Monday   TIMES SQ-42 ST    3943\n",
       "377    Monday           125 ST    2314\n",
       "429    Monday   34 ST-PENN STA    2184\n",
       "619    Monday  JKSN HT-ROOSVLT    2111\n",
       "383    Monday           145 ST    1841"
      ]
     },
     "execution_count": 26,
     "metadata": {},
     "output_type": "execute_result"
    }
   ],
   "source": [
    "day_of_week_final.head()"
   ]
  },
  {
   "cell_type": "markdown",
   "metadata": {},
   "source": [
    "day_of_week_final is FINAL dataframe for each day of week"
   ]
  },
  {
   "cell_type": "code",
   "execution_count": null,
   "metadata": {
    "collapsed": true
   },
   "outputs": [],
   "source": []
  }
 ],
 "metadata": {
  "kernelspec": {
   "display_name": "Python 3",
   "language": "python",
   "name": "python3"
  },
  "language_info": {
   "codemirror_mode": {
    "name": "ipython",
    "version": 3
   },
   "file_extension": ".py",
   "mimetype": "text/x-python",
   "name": "python",
   "nbconvert_exporter": "python",
   "pygments_lexer": "ipython3",
   "version": "3.5.1"
  }
 },
 "nbformat": 4,
 "nbformat_minor": 0
}
