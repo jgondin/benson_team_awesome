{
 "cells": [
  {
   "cell_type": "code",
   "execution_count": 2,
   "metadata": {
    "collapsed": true
   },
   "outputs": [],
   "source": [
    "import pandas as pd\n",
    "from __future__ import division\n",
    "import csv\n",
    "from datetime import datetime\n",
    "from collections import Counter"
   ]
  },
  {
   "cell_type": "code",
   "execution_count": 3,
   "metadata": {
    "collapsed": true
   },
   "outputs": [],
   "source": [
    "import matplotlib.pyplot as plt"
   ]
  },
  {
   "cell_type": "markdown",
   "metadata": {},
   "source": [
    "import stuff"
   ]
  },
  {
   "cell_type": "code",
   "execution_count": 4,
   "metadata": {
    "collapsed": true
   },
   "outputs": [],
   "source": [
    "data = pd.read_csv('http://web.mta.info/developers/data/nyct/turnstile/turnstile_160402.txt')"
   ]
  },
  {
   "cell_type": "code",
   "execution_count": 27,
   "metadata": {
    "collapsed": false
   },
   "outputs": [
    {
     "name": "stdout",
     "output_type": "stream",
     "text": [
      "http://web.mta.info/developers/data/nyct/turnstile/turnstile_160102.txt\n",
      "http://web.mta.info/developers/data/nyct/turnstile/turnstile_160109.txt\n",
      "http://web.mta.info/developers/data/nyct/turnstile/turnstile_160116.txt\n",
      "http://web.mta.info/developers/data/nyct/turnstile/turnstile_160130.txt\n",
      "http://web.mta.info/developers/data/nyct/turnstile/turnstile_160206.txt\n",
      "http://web.mta.info/developers/data/nyct/turnstile/turnstile_160213.txt\n",
      "http://web.mta.info/developers/data/nyct/turnstile/turnstile_160220.txt\n",
      "http://web.mta.info/developers/data/nyct/turnstile/turnstile_160227.txt\n",
      "http://web.mta.info/developers/data/nyct/turnstile/turnstile_160305.txt\n",
      "http://web.mta.info/developers/data/nyct/turnstile/turnstile_160312.txt\n",
      "http://web.mta.info/developers/data/nyct/turnstile/turnstile_160319.txt\n",
      "http://web.mta.info/developers/data/nyct/turnstile/turnstile_160326.txt\n",
      "http://web.mta.info/developers/data/nyct/turnstile/turnstile_160402.txt\n"
     ]
    }
   ],
   "source": [
    "list_data =[]\n",
    "list_weeks = ['160102', '160109', '160116','160130','160206','160213',\n",
    "              '160220','160227','160305','160312','160319','160326','160402']\n",
    "for u in list_weeks:\n",
    "    url = 'http://web.mta.info/developers/data/nyct/turnstile/turnstile_' + u + '.txt'\n",
    "    print(url)\n",
    "    list_data.append(pd.read_csv(url))\n",
    "\n",
    "data = pd.concat(list_data)"
   ]
  },
  {
   "cell_type": "markdown",
   "metadata": {},
   "source": [
    "read data in + merge data"
   ]
  },
  {
   "cell_type": "code",
   "execution_count": 28,
   "metadata": {
    "collapsed": true
   },
   "outputs": [],
   "source": [
    "data.columns = data.columns.str.replace(' ','')"
   ]
  },
  {
   "cell_type": "markdown",
   "metadata": {},
   "source": [
    "remove spaces from exits column"
   ]
  },
  {
   "cell_type": "code",
   "execution_count": 29,
   "metadata": {
    "collapsed": false
   },
   "outputs": [],
   "source": [
    "data[\"DATETIME\"] = data[\"DATE\"] + ' ' + data[\"TIME\"]"
   ]
  },
  {
   "cell_type": "code",
   "execution_count": 30,
   "metadata": {
    "collapsed": false
   },
   "outputs": [],
   "source": [
    "data['DATETIME'] = pd.to_datetime(data.DATETIME, format='%m/%d/%Y %H:%M:%S')"
   ]
  },
  {
   "cell_type": "markdown",
   "metadata": {},
   "source": [
    "create datetime and set format"
   ]
  },
  {
   "cell_type": "code",
   "execution_count": 31,
   "metadata": {
    "collapsed": true
   },
   "outputs": [],
   "source": [
    "data['HOUR'] = data.DATETIME.apply(lambda x: x.hour)"
   ]
  },
  {
   "cell_type": "code",
   "execution_count": 32,
   "metadata": {
    "collapsed": true
   },
   "outputs": [],
   "source": [
    "data['WEEKDAY']=data.DATETIME.apply(lambda x: 'Weekday' if 0<=x.weekday()<5 else 'Weekend')\n",
    "\n",
    "#same as above in 2 steps\n",
    "#weekdaycheck = lambda x: 'Weekday' if 0<=x.weekday()<5 else 'Weekend'\n",
    "#data['WEEKDAY']=data.DATETIME.apply(weekdaycheck)\n"
   ]
  },
  {
   "cell_type": "code",
   "execution_count": 33,
   "metadata": {
    "collapsed": true
   },
   "outputs": [],
   "source": [
    "daysofweek = ['Monday','Tuesday','Wednesday','Thursday','Friday','Saturday','Sunday']\n",
    "\n",
    "whatdayofweek = lambda x: daysofweek[x.weekday()]\n",
    "\n",
    "\n",
    "data['DAYOFWEEK'] = data.DATETIME.apply(whatdayofweek)\n",
    "#data['DAYOFWEEKVALUE'] = data.DATETIME.apply(dayofweekvalue)"
   ]
  },
  {
   "cell_type": "markdown",
   "metadata": {},
   "source": [
    "create day of week by applying function to DATETIME"
   ]
  },
  {
   "cell_type": "code",
   "execution_count": 70,
   "metadata": {
    "collapsed": false
   },
   "outputs": [],
   "source": [
    "data['dENTRIES'] = data.ENTRIES.shift(-1) - data.ENTRIES\n",
    "data['dEXITS'] = data.EXITS.shift(-1) - data.EXITS\n",
    "\n",
    "###for considering deltas as time(i+1)-time(i)"
   ]
  },
  {
   "cell_type": "markdown",
   "metadata": {},
   "source": [
    "create deltas by shifting from one above"
   ]
  },
  {
   "cell_type": "code",
   "execution_count": 12,
   "metadata": {
    "collapsed": true
   },
   "outputs": [],
   "source": [
    "#data['dENTRIES'] = data.ENTRIES - data.ENTRIES.shift(1)\n",
    "#data['dEXITS'] = data.EXITS - data.EXITS.shift(1)\n",
    "#data['dTOTAL'] = data.dENTRIES+ data.dEXITS\n",
    "\n",
    "###this is for considering deltas as time(i)-time(i-1)"
   ]
  },
  {
   "cell_type": "code",
   "execution_count": 52,
   "metadata": {
    "collapsed": false
   },
   "outputs": [
    {
     "data": {
      "text/plain": [
       "Index(['C/A', 'UNIT', 'SCP', 'STATION', 'LINENAME', 'DIVISION', 'DATE', 'TIME',\n",
       "       'DESC', 'ENTRIES', 'EXITS', 'DATETIME', 'HOUR', 'WEEKDAY', 'DAYOFWEEK',\n",
       "       'dENTRIES', 'dEXITS', 'dTOTAL'],\n",
       "      dtype='object')"
      ]
     },
     "execution_count": 52,
     "metadata": {},
     "output_type": "execute_result"
    }
   ],
   "source": [
    "data.columns"
   ]
  },
  {
   "cell_type": "code",
   "execution_count": 71,
   "metadata": {
    "collapsed": false
   },
   "outputs": [],
   "source": [
    "data.dENTRIES.fillna(0, inplace = True)"
   ]
  },
  {
   "cell_type": "code",
   "execution_count": 72,
   "metadata": {
    "collapsed": true
   },
   "outputs": [],
   "source": [
    "data.dEXITS.fillna(0, inplace = True)"
   ]
  },
  {
   "cell_type": "code",
   "execution_count": 73,
   "metadata": {
    "collapsed": true
   },
   "outputs": [],
   "source": [
    "data['dTOTAL'] = data.dENTRIES+ data.dEXITS\n"
   ]
  },
  {
   "cell_type": "code",
   "execution_count": 75,
   "metadata": {
    "collapsed": false
   },
   "outputs": [
    {
     "data": {
      "text/plain": [
       "(0, 18)"
      ]
     },
     "execution_count": 75,
     "metadata": {},
     "output_type": "execute_result"
    }
   ],
   "source": [
    "data[data.dTOTAL.isnull()].shape"
   ]
  },
  {
   "cell_type": "code",
   "execution_count": 76,
   "metadata": {
    "collapsed": false
   },
   "outputs": [],
   "source": [
    "datatest = data[(data.HOUR ==0)|(data.HOUR ==1)|(data.HOUR==2)|(data.HOUR==3)]\n",
    "# same as mask"
   ]
  },
  {
   "cell_type": "code",
   "execution_count": 77,
   "metadata": {
    "collapsed": false
   },
   "outputs": [
    {
     "data": {
      "text/plain": [
       "(411197, 18)"
      ]
     },
     "execution_count": 77,
     "metadata": {},
     "output_type": "execute_result"
    }
   ],
   "source": [
    "datatest.shape"
   ]
  },
  {
   "cell_type": "code",
   "execution_count": 44,
   "metadata": {
    "collapsed": false
   },
   "outputs": [
    {
     "data": {
      "text/plain": [
       "(220559, 18)"
      ]
     },
     "execution_count": 44,
     "metadata": {},
     "output_type": "execute_result"
    }
   ],
   "source": [
    "datatest.shape"
   ]
  },
  {
   "cell_type": "markdown",
   "metadata": {},
   "source": [
    "filter based on time we care about"
   ]
  },
  {
   "cell_type": "code",
   "execution_count": 78,
   "metadata": {
    "collapsed": false
   },
   "outputs": [],
   "source": [
    "datatest2 = datatest[(datatest.dENTRIES >= 0) & (datatest.dENTRIES <=5000) & (datatest.dEXITS >= 0) & (datatest.dEXITS <=5000)]\n",
    "# mask2 = (datatest.dENTRIES >= 0) & (datatest.dENTRIES <=5000) & (datatest.dEXITS >= 0) & (datatest.dEXITS <=5000)\n"
   ]
  },
  {
   "cell_type": "code",
   "execution_count": 79,
   "metadata": {
    "collapsed": false
   },
   "outputs": [
    {
     "data": {
      "text/plain": [
       "(407288, 18)"
      ]
     },
     "execution_count": 79,
     "metadata": {},
     "output_type": "execute_result"
    }
   ],
   "source": [
    "datatest2.shape"
   ]
  },
  {
   "cell_type": "markdown",
   "metadata": {},
   "source": [
    "filter a second time based on change in deltas to account for switching machine/station etc.  \n",
    "Lose out on 411197 - 407288 = 3909 total entries  \n",
    "3909 is 0.95% of our data that we lose"
   ]
  },
  {
   "cell_type": "code",
   "execution_count": 80,
   "metadata": {
    "collapsed": false
   },
   "outputs": [],
   "source": [
    "final_weekday_or_end = datatest2.groupby([datatest2.WEEKDAY, datatest2.STATION]).sum()"
   ]
  },
  {
   "cell_type": "code",
   "execution_count": 81,
   "metadata": {
    "collapsed": false
   },
   "outputs": [],
   "source": [
    "weekend_or_day_final =  (final_weekday_or_end\n",
    "    .reset_index()\n",
    "    .sort_values([\"WEEKDAY\", \"dTOTAL\"], ascending=[True, False])\n",
    ")"
   ]
  },
  {
   "cell_type": "code",
   "execution_count": 82,
   "metadata": {
    "collapsed": false
   },
   "outputs": [],
   "source": [
    "weekend_or_day_final = weekend_or_day_final.drop(['ENTRIES', 'EXITS', 'HOUR', 'dENTRIES', 'dEXITS'],1)"
   ]
  },
  {
   "cell_type": "code",
   "execution_count": 83,
   "metadata": {
    "collapsed": false
   },
   "outputs": [],
   "source": [
    "for r in range(weekend_or_day_final.shape[0]):\n",
    "    if weekend_or_day_final.ix[r,'WEEKDAY'] =='Weekday':\n",
    "        weekend_or_day_final.ix[r,'dTOTALACTUAL'] = weekend_or_day_final.ix[r, 'dTOTAL']/5\n",
    "    else:\n",
    "        weekend_or_day_final.ix[r,'dTOTALACTUAL'] = weekend_or_day_final.ix[r, 'dTOTAL']/2"
   ]
  },
  {
   "cell_type": "code",
   "execution_count": 84,
   "metadata": {
    "collapsed": false
   },
   "outputs": [],
   "source": [
    "weekend_or_day_final = weekend_or_day_final.drop(['dTOTAL'],1)\n"
   ]
  },
  {
   "cell_type": "code",
   "execution_count": 85,
   "metadata": {
    "collapsed": false
   },
   "outputs": [
    {
     "data": {
      "text/html": [
       "<div>\n",
       "<table border=\"1\" class=\"dataframe\">\n",
       "  <thead>\n",
       "    <tr style=\"text-align: right;\">\n",
       "      <th></th>\n",
       "      <th>WEEKDAY</th>\n",
       "      <th>STATION</th>\n",
       "      <th>dTOTALACTUAL</th>\n",
       "    </tr>\n",
       "  </thead>\n",
       "  <tbody>\n",
       "    <tr>\n",
       "      <th>61</th>\n",
       "      <td>Weekday</td>\n",
       "      <td>34 ST-PENN STA</td>\n",
       "      <td>120780.8</td>\n",
       "    </tr>\n",
       "    <tr>\n",
       "      <th>68</th>\n",
       "      <td>Weekday</td>\n",
       "      <td>42 ST-PORT AUTH</td>\n",
       "      <td>95942.2</td>\n",
       "    </tr>\n",
       "    <tr>\n",
       "      <th>248</th>\n",
       "      <td>Weekday</td>\n",
       "      <td>JAMAICA CENTER</td>\n",
       "      <td>80605.8</td>\n",
       "    </tr>\n",
       "    <tr>\n",
       "      <th>213</th>\n",
       "      <td>Weekday</td>\n",
       "      <td>FLUSHING-MAIN</td>\n",
       "      <td>79617.6</td>\n",
       "    </tr>\n",
       "    <tr>\n",
       "      <th>229</th>\n",
       "      <td>Weekday</td>\n",
       "      <td>GRD CNTRL-42 ST</td>\n",
       "      <td>73518.2</td>\n",
       "    </tr>\n",
       "  </tbody>\n",
       "</table>\n",
       "</div>"
      ],
      "text/plain": [
       "     WEEKDAY          STATION  dTOTALACTUAL\n",
       "61   Weekday   34 ST-PENN STA      120780.8\n",
       "68   Weekday  42 ST-PORT AUTH       95942.2\n",
       "248  Weekday   JAMAICA CENTER       80605.8\n",
       "213  Weekday    FLUSHING-MAIN       79617.6\n",
       "229  Weekday  GRD CNTRL-42 ST       73518.2"
      ]
     },
     "execution_count": 85,
     "metadata": {},
     "output_type": "execute_result"
    }
   ],
   "source": [
    "weekend_or_day_final.head()"
   ]
  },
  {
   "cell_type": "markdown",
   "metadata": {},
   "source": [
    "weekend_or_day_final is the FINAL dataframe for weekday vs weekend"
   ]
  },
  {
   "cell_type": "code",
   "execution_count": 86,
   "metadata": {
    "collapsed": false
   },
   "outputs": [],
   "source": [
    "finaldayofweek = datatest2.groupby([datatest2.DAYOFWEEK,datatest2.STATION]).sum()"
   ]
  },
  {
   "cell_type": "code",
   "execution_count": 87,
   "metadata": {
    "collapsed": false
   },
   "outputs": [],
   "source": [
    "day_of_week = finaldayofweek.reset_index()"
   ]
  },
  {
   "cell_type": "code",
   "execution_count": 88,
   "metadata": {
    "collapsed": true
   },
   "outputs": [],
   "source": [
    "whatdayindex = lambda x: daysofweek.index(x)"
   ]
  },
  {
   "cell_type": "code",
   "execution_count": 89,
   "metadata": {
    "collapsed": false
   },
   "outputs": [],
   "source": [
    "day_of_week['DAYOFWEEKVALUE'] = day_of_week.DAYOFWEEK.apply(whatdayindex)  \n",
    "\n",
    "\n",
    "day_of_week_final = day_of_week.sort_values(['DAYOFWEEKVALUE','dTOTAL'], ascending = [True, False])\n",
    "#data['HOUR'] = data.DATETIME.apply(lambda x: x.hour)"
   ]
  },
  {
   "cell_type": "code",
   "execution_count": 90,
   "metadata": {
    "collapsed": true
   },
   "outputs": [],
   "source": [
    "day_of_week_final = day_of_week_final.drop(['ENTRIES', 'EXITS', 'HOUR', 'dENTRIES', 'dEXITS', 'DAYOFWEEKVALUE'],1)\n",
    "\n",
    "\n",
    "\n",
    "#df = df.drop('column_name', 1)"
   ]
  },
  {
   "cell_type": "code",
   "execution_count": 92,
   "metadata": {
    "collapsed": true
   },
   "outputs": [],
   "source": [
    "day_of_week_final.dTOTAL = day_of_week_final.dTOTAL/13\n"
   ]
  },
  {
   "cell_type": "code",
   "execution_count": 97,
   "metadata": {
    "collapsed": false
   },
   "outputs": [],
   "source": [
    "testsunday = day_of_week_final[(day_of_week_final.DAYOFWEEK == 'Sunday')]"
   ]
  },
  {
   "cell_type": "code",
   "execution_count": 109,
   "metadata": {
    "collapsed": true
   },
   "outputs": [],
   "source": [
    "testmonday = day_of_week_final[(day_of_week_final.DAYOFWEEK == 'Monday')]\n",
    "\n",
    "testsaturday = day_of_week_final[(day_of_week_final.DAYOFWEEK == 'Saturday')]\n",
    "\n",
    "testtuesday = day_of_week_final[(day_of_week_final.DAYOFWEEK == 'Tuesday')]\n",
    "\n",
    "testwed = day_of_week_final[(day_of_week_final.DAYOFWEEK == 'Wednesday')]"
   ]
  },
  {
   "cell_type": "markdown",
   "metadata": {},
   "source": [
    "day_of_week_final is FINAL dataframe for each day of week"
   ]
  },
  {
   "cell_type": "code",
   "execution_count": 112,
   "metadata": {
    "collapsed": false
   },
   "outputs": [
    {
     "data": {
      "text/html": [
       "<div>\n",
       "<table border=\"1\" class=\"dataframe\">\n",
       "  <thead>\n",
       "    <tr style=\"text-align: right;\">\n",
       "      <th></th>\n",
       "      <th>DAYOFWEEK</th>\n",
       "      <th>STATION</th>\n",
       "      <th>dTOTAL</th>\n",
       "    </tr>\n",
       "  </thead>\n",
       "  <tbody>\n",
       "    <tr>\n",
       "      <th>2299</th>\n",
       "      <td>Wednesday</td>\n",
       "      <td>34 ST-PENN STA</td>\n",
       "      <td>9550.153846</td>\n",
       "    </tr>\n",
       "    <tr>\n",
       "      <th>2306</th>\n",
       "      <td>Wednesday</td>\n",
       "      <td>42 ST-PORT AUTH</td>\n",
       "      <td>7322.923077</td>\n",
       "    </tr>\n",
       "    <tr>\n",
       "      <th>2297</th>\n",
       "      <td>Wednesday</td>\n",
       "      <td>34 ST-HERALD SQ</td>\n",
       "      <td>6769.076923</td>\n",
       "    </tr>\n",
       "    <tr>\n",
       "      <th>2486</th>\n",
       "      <td>Wednesday</td>\n",
       "      <td>JAMAICA CENTER</td>\n",
       "      <td>6564.000000</td>\n",
       "    </tr>\n",
       "    <tr>\n",
       "      <th>2451</th>\n",
       "      <td>Wednesday</td>\n",
       "      <td>FLUSHING-MAIN</td>\n",
       "      <td>6313.384615</td>\n",
       "    </tr>\n",
       "  </tbody>\n",
       "</table>\n",
       "</div>"
      ],
      "text/plain": [
       "      DAYOFWEEK          STATION       dTOTAL\n",
       "2299  Wednesday   34 ST-PENN STA  9550.153846\n",
       "2306  Wednesday  42 ST-PORT AUTH  7322.923077\n",
       "2297  Wednesday  34 ST-HERALD SQ  6769.076923\n",
       "2486  Wednesday   JAMAICA CENTER  6564.000000\n",
       "2451  Wednesday    FLUSHING-MAIN  6313.384615"
      ]
     },
     "execution_count": 112,
     "metadata": {},
     "output_type": "execute_result"
    }
   ],
   "source": [
    "testwed.head()"
   ]
  },
  {
   "cell_type": "code",
   "execution_count": 110,
   "metadata": {
    "collapsed": false
   },
   "outputs": [
    {
     "data": {
      "text/html": [
       "<div>\n",
       "<table border=\"1\" class=\"dataframe\">\n",
       "  <thead>\n",
       "    <tr style=\"text-align: right;\">\n",
       "      <th></th>\n",
       "      <th>DAYOFWEEK</th>\n",
       "      <th>STATION</th>\n",
       "      <th>dTOTAL</th>\n",
       "    </tr>\n",
       "  </thead>\n",
       "  <tbody>\n",
       "    <tr>\n",
       "      <th>1926</th>\n",
       "      <td>Tuesday</td>\n",
       "      <td>34 ST-PENN STA</td>\n",
       "      <td>9406.384615</td>\n",
       "    </tr>\n",
       "    <tr>\n",
       "      <th>1933</th>\n",
       "      <td>Tuesday</td>\n",
       "      <td>42 ST-PORT AUTH</td>\n",
       "      <td>7352.846154</td>\n",
       "    </tr>\n",
       "    <tr>\n",
       "      <th>2113</th>\n",
       "      <td>Tuesday</td>\n",
       "      <td>JAMAICA CENTER</td>\n",
       "      <td>6499.769231</td>\n",
       "    </tr>\n",
       "    <tr>\n",
       "      <th>2078</th>\n",
       "      <td>Tuesday</td>\n",
       "      <td>FLUSHING-MAIN</td>\n",
       "      <td>6309.692308</td>\n",
       "    </tr>\n",
       "    <tr>\n",
       "      <th>1924</th>\n",
       "      <td>Tuesday</td>\n",
       "      <td>34 ST-HERALD SQ</td>\n",
       "      <td>5574.538462</td>\n",
       "    </tr>\n",
       "  </tbody>\n",
       "</table>\n",
       "</div>"
      ],
      "text/plain": [
       "     DAYOFWEEK          STATION       dTOTAL\n",
       "1926   Tuesday   34 ST-PENN STA  9406.384615\n",
       "1933   Tuesday  42 ST-PORT AUTH  7352.846154\n",
       "2113   Tuesday   JAMAICA CENTER  6499.769231\n",
       "2078   Tuesday    FLUSHING-MAIN  6309.692308\n",
       "1924   Tuesday  34 ST-HERALD SQ  5574.538462"
      ]
     },
     "execution_count": 110,
     "metadata": {},
     "output_type": "execute_result"
    }
   ],
   "source": [
    "testtuesday.head()"
   ]
  },
  {
   "cell_type": "code",
   "execution_count": 104,
   "metadata": {
    "collapsed": false
   },
   "outputs": [
    {
     "data": {
      "text/html": [
       "<div>\n",
       "<table border=\"1\" class=\"dataframe\">\n",
       "  <thead>\n",
       "    <tr style=\"text-align: right;\">\n",
       "      <th></th>\n",
       "      <th>DAYOFWEEK</th>\n",
       "      <th>STATION</th>\n",
       "      <th>dTOTAL</th>\n",
       "    </tr>\n",
       "  </thead>\n",
       "  <tbody>\n",
       "    <tr>\n",
       "      <th>1133</th>\n",
       "      <td>Sunday</td>\n",
       "      <td>14 ST-UNION SQ</td>\n",
       "      <td>5949.615385</td>\n",
       "    </tr>\n",
       "    <tr>\n",
       "      <th>1477</th>\n",
       "      <td>Sunday</td>\n",
       "      <td>W 4 ST-WASH SQ</td>\n",
       "      <td>4322.461538</td>\n",
       "    </tr>\n",
       "    <tr>\n",
       "      <th>1187</th>\n",
       "      <td>Sunday</td>\n",
       "      <td>42 ST-PORT AUTH</td>\n",
       "      <td>4176.384615</td>\n",
       "    </tr>\n",
       "    <tr>\n",
       "      <th>1180</th>\n",
       "      <td>Sunday</td>\n",
       "      <td>34 ST-PENN STA</td>\n",
       "      <td>3282.000000</td>\n",
       "    </tr>\n",
       "    <tr>\n",
       "      <th>1128</th>\n",
       "      <td>Sunday</td>\n",
       "      <td>125 ST</td>\n",
       "      <td>3190.846154</td>\n",
       "    </tr>\n",
       "  </tbody>\n",
       "</table>\n",
       "</div>"
      ],
      "text/plain": [
       "     DAYOFWEEK          STATION       dTOTAL\n",
       "1133    Sunday   14 ST-UNION SQ  5949.615385\n",
       "1477    Sunday   W 4 ST-WASH SQ  4322.461538\n",
       "1187    Sunday  42 ST-PORT AUTH  4176.384615\n",
       "1180    Sunday   34 ST-PENN STA  3282.000000\n",
       "1128    Sunday           125 ST  3190.846154"
      ]
     },
     "execution_count": 104,
     "metadata": {},
     "output_type": "execute_result"
    }
   ],
   "source": [
    "testsunday.head()"
   ]
  },
  {
   "cell_type": "code",
   "execution_count": 106,
   "metadata": {
    "collapsed": false
   },
   "outputs": [
    {
     "data": {
      "text/html": [
       "<div>\n",
       "<table border=\"1\" class=\"dataframe\">\n",
       "  <thead>\n",
       "    <tr style=\"text-align: right;\">\n",
       "      <th></th>\n",
       "      <th>DAYOFWEEK</th>\n",
       "      <th>STATION</th>\n",
       "      <th>dTOTAL</th>\n",
       "    </tr>\n",
       "  </thead>\n",
       "  <tbody>\n",
       "    <tr>\n",
       "      <th>434</th>\n",
       "      <td>Monday</td>\n",
       "      <td>34 ST-PENN STA</td>\n",
       "      <td>8377.538462</td>\n",
       "    </tr>\n",
       "    <tr>\n",
       "      <th>441</th>\n",
       "      <td>Monday</td>\n",
       "      <td>42 ST-PORT AUTH</td>\n",
       "      <td>6874.000000</td>\n",
       "    </tr>\n",
       "    <tr>\n",
       "      <th>621</th>\n",
       "      <td>Monday</td>\n",
       "      <td>JAMAICA CENTER</td>\n",
       "      <td>5968.076923</td>\n",
       "    </tr>\n",
       "    <tr>\n",
       "      <th>586</th>\n",
       "      <td>Monday</td>\n",
       "      <td>FLUSHING-MAIN</td>\n",
       "      <td>5920.384615</td>\n",
       "    </tr>\n",
       "    <tr>\n",
       "      <th>482</th>\n",
       "      <td>Monday</td>\n",
       "      <td>86 ST</td>\n",
       "      <td>4986.230769</td>\n",
       "    </tr>\n",
       "  </tbody>\n",
       "</table>\n",
       "</div>"
      ],
      "text/plain": [
       "    DAYOFWEEK          STATION       dTOTAL\n",
       "434    Monday   34 ST-PENN STA  8377.538462\n",
       "441    Monday  42 ST-PORT AUTH  6874.000000\n",
       "621    Monday   JAMAICA CENTER  5968.076923\n",
       "586    Monday    FLUSHING-MAIN  5920.384615\n",
       "482    Monday            86 ST  4986.230769"
      ]
     },
     "execution_count": 106,
     "metadata": {},
     "output_type": "execute_result"
    }
   ],
   "source": [
    "testmonday.head()"
   ]
  },
  {
   "cell_type": "code",
   "execution_count": 108,
   "metadata": {
    "collapsed": false
   },
   "outputs": [
    {
     "data": {
      "text/html": [
       "<div>\n",
       "<table border=\"1\" class=\"dataframe\">\n",
       "  <thead>\n",
       "    <tr style=\"text-align: right;\">\n",
       "      <th></th>\n",
       "      <th>DAYOFWEEK</th>\n",
       "      <th>STATION</th>\n",
       "      <th>dTOTAL</th>\n",
       "    </tr>\n",
       "  </thead>\n",
       "  <tbody>\n",
       "    <tr>\n",
       "      <th>760</th>\n",
       "      <td>Saturday</td>\n",
       "      <td>14 ST-UNION SQ</td>\n",
       "      <td>5888.076923</td>\n",
       "    </tr>\n",
       "    <tr>\n",
       "      <th>814</th>\n",
       "      <td>Saturday</td>\n",
       "      <td>42 ST-PORT AUTH</td>\n",
       "      <td>4588.846154</td>\n",
       "    </tr>\n",
       "    <tr>\n",
       "      <th>807</th>\n",
       "      <td>Saturday</td>\n",
       "      <td>34 ST-PENN STA</td>\n",
       "      <td>4433.615385</td>\n",
       "    </tr>\n",
       "    <tr>\n",
       "      <th>1104</th>\n",
       "      <td>Saturday</td>\n",
       "      <td>W 4 ST-WASH SQ</td>\n",
       "      <td>4339.846154</td>\n",
       "    </tr>\n",
       "    <tr>\n",
       "      <th>1094</th>\n",
       "      <td>Saturday</td>\n",
       "      <td>TIMES SQ-42 ST</td>\n",
       "      <td>3738.000000</td>\n",
       "    </tr>\n",
       "  </tbody>\n",
       "</table>\n",
       "</div>"
      ],
      "text/plain": [
       "     DAYOFWEEK          STATION       dTOTAL\n",
       "760   Saturday   14 ST-UNION SQ  5888.076923\n",
       "814   Saturday  42 ST-PORT AUTH  4588.846154\n",
       "807   Saturday   34 ST-PENN STA  4433.615385\n",
       "1104  Saturday   W 4 ST-WASH SQ  4339.846154\n",
       "1094  Saturday   TIMES SQ-42 ST  3738.000000"
      ]
     },
     "execution_count": 108,
     "metadata": {},
     "output_type": "execute_result"
    }
   ],
   "source": [
    "testsaturday.head()"
   ]
  },
  {
   "cell_type": "code",
   "execution_count": null,
   "metadata": {
    "collapsed": true
   },
   "outputs": [],
   "source": []
  }
 ],
 "metadata": {
  "kernelspec": {
   "display_name": "Python 2",
   "language": "python",
   "name": "python2"
  },
  "language_info": {
   "codemirror_mode": {
    "name": "ipython",
    "version": 2
   },
   "file_extension": ".py",
   "mimetype": "text/x-python",
   "name": "python",
   "nbconvert_exporter": "python",
   "pygments_lexer": "ipython2",
   "version": "2.7.11"
  }
 },
 "nbformat": 4,
 "nbformat_minor": 0
}
