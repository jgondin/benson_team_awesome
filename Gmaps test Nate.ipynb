{
 "cells": [
  {
   "cell_type": "code",
   "execution_count": 1,
   "metadata": {
    "collapsed": false
   },
   "outputs": [
    {
     "data": {
      "application/javascript": [
       "\n",
       "            require(['base/js/utils'],\n",
       "            function(utils) {\n",
       "                utils.load_extensions('gmaps_js/gmaps_views');\n",
       "            });\n",
       "            "
      ],
      "text/plain": [
       "<IPython.core.display.Javascript object>"
      ]
     },
     "metadata": {},
     "output_type": "display_data"
    }
   ],
   "source": [
    "import gmaps\n",
    "import pandas as pd\n",
    "import numpy as np"
   ]
  },
  {
   "cell_type": "code",
   "execution_count": 22,
   "metadata": {
    "collapsed": false
   },
   "outputs": [],
   "source": [
    "data = [ [ 37.782551,-122.445368 ],\n",
    "         [ 37.782745,-122.444586 ],\n",
    "         [ 37.782842,-122.443858 ] ]\n",
    "\n",
    "gmaps.heatmap(data)"
   ]
  },
  {
   "cell_type": "code",
   "execution_count": 3,
   "metadata": {
    "collapsed": true
   },
   "outputs": [],
   "source": [
    "# jitter to add density for heat map"
   ]
  },
  {
   "cell_type": "code",
   "execution_count": 2,
   "metadata": {
    "collapsed": false
   },
   "outputs": [],
   "source": [
    "def Jitter(values, jitter=0.000001):\n",
    "    n = len(values)\n",
    "    return np.random.uniform(-jitter, +jitter) + values"
   ]
  },
  {
   "cell_type": "code",
   "execution_count": 3,
   "metadata": {
    "collapsed": true
   },
   "outputs": [],
   "source": [
    "df = pd.read_csv('NYC_Transit_Subway_Entrance_And_Exit_Data.csv')"
   ]
  },
  {
   "cell_type": "code",
   "execution_count": 9,
   "metadata": {
    "collapsed": false
   },
   "outputs": [
    {
     "data": {
      "text/html": [
       "<div>\n",
       "<table border=\"1\" class=\"dataframe\">\n",
       "  <thead>\n",
       "    <tr style=\"text-align: right;\">\n",
       "      <th></th>\n",
       "      <th>Division</th>\n",
       "      <th>Line</th>\n",
       "      <th>Station Name</th>\n",
       "      <th>Station Latitude</th>\n",
       "      <th>Station Longitude</th>\n",
       "      <th>Route1</th>\n",
       "      <th>Route2</th>\n",
       "      <th>Route3</th>\n",
       "      <th>Route4</th>\n",
       "      <th>Route5</th>\n",
       "      <th>...</th>\n",
       "      <th>ADA</th>\n",
       "      <th>ADA Notes</th>\n",
       "      <th>Free Crossover</th>\n",
       "      <th>North South Street</th>\n",
       "      <th>East West Street</th>\n",
       "      <th>Corner</th>\n",
       "      <th>Entrance Latitude</th>\n",
       "      <th>Entrance Longitude</th>\n",
       "      <th>Station Location</th>\n",
       "      <th>Entrance Location</th>\n",
       "    </tr>\n",
       "  </thead>\n",
       "  <tbody>\n",
       "    <tr>\n",
       "      <th>1863</th>\n",
       "      <td>IRT</td>\n",
       "      <td>White Plains Road</td>\n",
       "      <td>Simpson St</td>\n",
       "      <td>40.824073</td>\n",
       "      <td>-73.893064</td>\n",
       "      <td>2</td>\n",
       "      <td>5</td>\n",
       "      <td>NaN</td>\n",
       "      <td>NaN</td>\n",
       "      <td>NaN</td>\n",
       "      <td>...</td>\n",
       "      <td>True</td>\n",
       "      <td>NaN</td>\n",
       "      <td>False</td>\n",
       "      <td>Westchester Ave</td>\n",
       "      <td>Simpson St</td>\n",
       "      <td>SW</td>\n",
       "      <td>40.823884</td>\n",
       "      <td>-73.893197</td>\n",
       "      <td>(40.824073, -73.893064)</td>\n",
       "      <td>(40.823884, -73.893197)</td>\n",
       "    </tr>\n",
       "    <tr>\n",
       "      <th>1864</th>\n",
       "      <td>IRT</td>\n",
       "      <td>White Plains Road</td>\n",
       "      <td>Simpson St</td>\n",
       "      <td>40.824073</td>\n",
       "      <td>-73.893064</td>\n",
       "      <td>2</td>\n",
       "      <td>5</td>\n",
       "      <td>NaN</td>\n",
       "      <td>NaN</td>\n",
       "      <td>NaN</td>\n",
       "      <td>...</td>\n",
       "      <td>True</td>\n",
       "      <td>NaN</td>\n",
       "      <td>False</td>\n",
       "      <td>Westchester Ave</td>\n",
       "      <td>Simpson St</td>\n",
       "      <td>SE</td>\n",
       "      <td>40.824118</td>\n",
       "      <td>-73.892731</td>\n",
       "      <td>(40.824073, -73.893064)</td>\n",
       "      <td>(40.824118, -73.892731)</td>\n",
       "    </tr>\n",
       "    <tr>\n",
       "      <th>1865</th>\n",
       "      <td>IRT</td>\n",
       "      <td>White Plains Road</td>\n",
       "      <td>Wakefield-241st St</td>\n",
       "      <td>40.903125</td>\n",
       "      <td>-73.850620</td>\n",
       "      <td>2</td>\n",
       "      <td>5</td>\n",
       "      <td>NaN</td>\n",
       "      <td>NaN</td>\n",
       "      <td>NaN</td>\n",
       "      <td>...</td>\n",
       "      <td>False</td>\n",
       "      <td>NaN</td>\n",
       "      <td>True</td>\n",
       "      <td>White Plains Rd</td>\n",
       "      <td>241st St</td>\n",
       "      <td>SE</td>\n",
       "      <td>40.903283</td>\n",
       "      <td>-73.850321</td>\n",
       "      <td>(40.903125, -73.85062)</td>\n",
       "      <td>(40.903283, -73.850321)</td>\n",
       "    </tr>\n",
       "    <tr>\n",
       "      <th>1866</th>\n",
       "      <td>IRT</td>\n",
       "      <td>White Plains Road</td>\n",
       "      <td>Wakefield-241st St</td>\n",
       "      <td>40.903125</td>\n",
       "      <td>-73.850620</td>\n",
       "      <td>2</td>\n",
       "      <td>5</td>\n",
       "      <td>NaN</td>\n",
       "      <td>NaN</td>\n",
       "      <td>NaN</td>\n",
       "      <td>...</td>\n",
       "      <td>False</td>\n",
       "      <td>NaN</td>\n",
       "      <td>True</td>\n",
       "      <td>White Plains Rd</td>\n",
       "      <td>241st St</td>\n",
       "      <td>NW</td>\n",
       "      <td>40.903597</td>\n",
       "      <td>-73.850360</td>\n",
       "      <td>(40.903125, -73.85062)</td>\n",
       "      <td>(40.903597, -73.850360)</td>\n",
       "    </tr>\n",
       "    <tr>\n",
       "      <th>1867</th>\n",
       "      <td>IRT</td>\n",
       "      <td>White Plains Road</td>\n",
       "      <td>Wakefield-241st St</td>\n",
       "      <td>40.903125</td>\n",
       "      <td>-73.850620</td>\n",
       "      <td>2</td>\n",
       "      <td>5</td>\n",
       "      <td>NaN</td>\n",
       "      <td>NaN</td>\n",
       "      <td>NaN</td>\n",
       "      <td>...</td>\n",
       "      <td>False</td>\n",
       "      <td>NaN</td>\n",
       "      <td>True</td>\n",
       "      <td>White Plains Rd</td>\n",
       "      <td>241st St</td>\n",
       "      <td>NE</td>\n",
       "      <td>40.903509</td>\n",
       "      <td>-73.850124</td>\n",
       "      <td>(40.903125, -73.85062)</td>\n",
       "      <td>(40.903509, -73.850124)</td>\n",
       "    </tr>\n",
       "  </tbody>\n",
       "</table>\n",
       "<p>5 rows × 32 columns</p>\n",
       "</div>"
      ],
      "text/plain": [
       "     Division               Line        Station Name  Station Latitude  \\\n",
       "1863      IRT  White Plains Road          Simpson St         40.824073   \n",
       "1864      IRT  White Plains Road          Simpson St         40.824073   \n",
       "1865      IRT  White Plains Road  Wakefield-241st St         40.903125   \n",
       "1866      IRT  White Plains Road  Wakefield-241st St         40.903125   \n",
       "1867      IRT  White Plains Road  Wakefield-241st St         40.903125   \n",
       "\n",
       "      Station Longitude Route1 Route2 Route3 Route4 Route5  \\\n",
       "1863         -73.893064      2      5    NaN    NaN    NaN   \n",
       "1864         -73.893064      2      5    NaN    NaN    NaN   \n",
       "1865         -73.850620      2      5    NaN    NaN    NaN   \n",
       "1866         -73.850620      2      5    NaN    NaN    NaN   \n",
       "1867         -73.850620      2      5    NaN    NaN    NaN   \n",
       "\n",
       "               ...               ADA ADA Notes  Free Crossover  \\\n",
       "1863           ...              True       NaN           False   \n",
       "1864           ...              True       NaN           False   \n",
       "1865           ...             False       NaN            True   \n",
       "1866           ...             False       NaN            True   \n",
       "1867           ...             False       NaN            True   \n",
       "\n",
       "      North South Street  East West Street  Corner Entrance Latitude  \\\n",
       "1863     Westchester Ave        Simpson St      SW         40.823884   \n",
       "1864     Westchester Ave        Simpson St      SE         40.824118   \n",
       "1865     White Plains Rd          241st St      SE         40.903283   \n",
       "1866     White Plains Rd          241st St      NW         40.903597   \n",
       "1867     White Plains Rd          241st St      NE         40.903509   \n",
       "\n",
       "     Entrance Longitude         Station Location        Entrance Location  \n",
       "1863         -73.893197  (40.824073, -73.893064)  (40.823884, -73.893197)  \n",
       "1864         -73.892731  (40.824073, -73.893064)  (40.824118, -73.892731)  \n",
       "1865         -73.850321   (40.903125, -73.85062)  (40.903283, -73.850321)  \n",
       "1866         -73.850360   (40.903125, -73.85062)  (40.903597, -73.850360)  \n",
       "1867         -73.850124   (40.903125, -73.85062)  (40.903509, -73.850124)  \n",
       "\n",
       "[5 rows x 32 columns]"
      ]
     },
     "execution_count": 9,
     "metadata": {},
     "output_type": "execute_result"
    }
   ],
   "source": [
    "df.tail()"
   ]
  },
  {
   "cell_type": "code",
   "execution_count": 5,
   "metadata": {
    "collapsed": true
   },
   "outputs": [],
   "source": [
    "lat_long = df[['Station Latitude','Station Longitude']].values"
   ]
  },
  {
   "cell_type": "code",
   "execution_count": 6,
   "metadata": {
    "collapsed": false
   },
   "outputs": [
    {
     "data": {
      "text/plain": [
       "array([[ 40.660397, -73.998091],\n",
       "       [ 40.660397, -73.998091],\n",
       "       [ 40.655144, -74.003549],\n",
       "       ..., \n",
       "       [ 40.903125, -73.85062 ],\n",
       "       [ 40.903125, -73.85062 ],\n",
       "       [ 40.903125, -73.85062 ]])"
      ]
     },
     "execution_count": 6,
     "metadata": {},
     "output_type": "execute_result"
    }
   ],
   "source": [
    "lat_long"
   ]
  },
  {
   "cell_type": "code",
   "execution_count": 7,
   "metadata": {
    "collapsed": true
   },
   "outputs": [],
   "source": [
    "gmaps.heatmap(lat_long)"
   ]
  },
  {
   "cell_type": "code",
   "execution_count": null,
   "metadata": {
    "collapsed": true
   },
   "outputs": [],
   "source": []
  }
 ],
 "metadata": {
  "kernelspec": {
   "display_name": "Python 2",
   "language": "python",
   "name": "python2"
  },
  "language_info": {
   "codemirror_mode": {
    "name": "ipython",
    "version": 2
   },
   "file_extension": ".py",
   "mimetype": "text/x-python",
   "name": "python",
   "nbconvert_exporter": "python",
   "pygments_lexer": "ipython2",
   "version": "2.7.11"
  }
 },
 "nbformat": 4,
 "nbformat_minor": 0
}
