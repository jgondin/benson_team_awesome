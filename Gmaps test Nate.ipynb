{
 "cells": [
  {
   "cell_type": "code",
   "execution_count": 11,
   "metadata": {
    "collapsed": false
   },
   "outputs": [],
   "source": [
    "import gmaps\n",
    "import pandas as pd\n",
    "import numpy as np"
   ]
  },
  {
   "cell_type": "code",
   "execution_count": 22,
   "metadata": {
    "collapsed": false
   },
   "outputs": [],
   "source": [
    "# data = [ [ 37.782551,-122.445368 ],\n",
    "#          [ 37.782745,-122.444586 ],\n",
    "#          [ 37.782842,-122.443858 ] ]\n",
    "\n",
    "# gmaps.heatmap(data)"
   ]
  },
  {
   "cell_type": "code",
   "execution_count": 3,
   "metadata": {
    "collapsed": true
   },
   "outputs": [],
   "source": [
    "# jitter to add density for heat map"
   ]
  },
  {
   "cell_type": "code",
   "execution_count": 2,
   "metadata": {
    "collapsed": false
   },
   "outputs": [],
   "source": [
    "def Jitter(values, jitter=0.000001):\n",
    "    n = len(values)\n",
    "    return np.random.uniform(-jitter, +jitter) + values"
   ]
  },
  {
   "cell_type": "code",
   "execution_count": 20,
   "metadata": {
    "collapsed": true
   },
   "outputs": [],
   "source": [
    "df_locations = pd.read_csv('NYC_Transit_Subway_Entrance_And_Exit_Data.csv')"
   ]
  },
  {
   "cell_type": "code",
   "execution_count": 22,
   "metadata": {
    "collapsed": false
   },
   "outputs": [],
   "source": [
    "df_locations = df_locations[['Station Name', 'Station Latitude', 'Station Longitude']]"
   ]
  },
  {
   "cell_type": "code",
   "execution_count": 23,
   "metadata": {
    "collapsed": false
   },
   "outputs": [
    {
     "data": {
      "text/html": [
       "<div>\n",
       "<table border=\"1\" class=\"dataframe\">\n",
       "  <thead>\n",
       "    <tr style=\"text-align: right;\">\n",
       "      <th></th>\n",
       "      <th>Station Name</th>\n",
       "      <th>Station Latitude</th>\n",
       "      <th>Station Longitude</th>\n",
       "    </tr>\n",
       "  </thead>\n",
       "  <tbody>\n",
       "    <tr>\n",
       "      <th>0</th>\n",
       "      <td>25th St</td>\n",
       "      <td>40.660397</td>\n",
       "      <td>-73.998091</td>\n",
       "    </tr>\n",
       "    <tr>\n",
       "      <th>1</th>\n",
       "      <td>25th St</td>\n",
       "      <td>40.660397</td>\n",
       "      <td>-73.998091</td>\n",
       "    </tr>\n",
       "    <tr>\n",
       "      <th>2</th>\n",
       "      <td>36th St</td>\n",
       "      <td>40.655144</td>\n",
       "      <td>-74.003549</td>\n",
       "    </tr>\n",
       "    <tr>\n",
       "      <th>3</th>\n",
       "      <td>36th St</td>\n",
       "      <td>40.655144</td>\n",
       "      <td>-74.003549</td>\n",
       "    </tr>\n",
       "    <tr>\n",
       "      <th>4</th>\n",
       "      <td>36th St</td>\n",
       "      <td>40.655144</td>\n",
       "      <td>-74.003549</td>\n",
       "    </tr>\n",
       "  </tbody>\n",
       "</table>\n",
       "</div>"
      ],
      "text/plain": [
       "  Station Name  Station Latitude  Station Longitude\n",
       "0      25th St         40.660397         -73.998091\n",
       "1      25th St         40.660397         -73.998091\n",
       "2      36th St         40.655144         -74.003549\n",
       "3      36th St         40.655144         -74.003549\n",
       "4      36th St         40.655144         -74.003549"
      ]
     },
     "execution_count": 23,
     "metadata": {},
     "output_type": "execute_result"
    }
   ],
   "source": [
    "df_locations.head()"
   ]
  },
  {
   "cell_type": "code",
   "execution_count": 18,
   "metadata": {
    "collapsed": false
   },
   "outputs": [
    {
     "data": {
      "text/plain": [
       "34th St                                    41\n",
       "23rd St                                    40\n",
       "14th St                                    26\n",
       "59th St                                    25\n",
       "86th St                                    22\n",
       "50th St                                    20\n",
       "125th St                                   19\n",
       "42nd St                                    18\n",
       "47-50th Sts Rockefeller Center             17\n",
       "Fulton St                                  17\n",
       "Canal St                                   17\n",
       "28th St                                    17\n",
       "Chambers St                                16\n",
       "Jamaica-179th St                           16\n",
       "Yankee Stadium-161st St                    16\n",
       "57th St                                    16\n",
       "Church Av                                  15\n",
       "Rector St                                  15\n",
       "DeKalb Av                                  14\n",
       "Wall St                                    14\n",
       "7th Av                                     14\n",
       "145th St                                   13\n",
       "Jay St - Borough Hall                      13\n",
       "96th St                                    13\n",
       "116th St                                   12\n",
       "103rd St                                   12\n",
       "Utica Av                                   11\n",
       "Bergen St                                  11\n",
       "77th St                                    11\n",
       "Parsons Blvd-Archer Av - Jamaica Center    10\n",
       "                                           ..\n",
       "88th St-Boyd Av                             2\n",
       "Av X                                        2\n",
       "Pennsylvania Av                             2\n",
       "Montrose Av                                 2\n",
       "Av P                                        2\n",
       "Baychester Av                               2\n",
       "Chauncey St                                 2\n",
       "4th Av                                      2\n",
       "Broadway Junction-East New York             1\n",
       "9th Av                                      1\n",
       "Cortelyou Rd                                1\n",
       "Wilson Av                                   1\n",
       "Grant Av                                    1\n",
       "Bushwick Av                                 1\n",
       "Rockaway Park-Beach 116th                   1\n",
       "Roosevelt Island                            1\n",
       "Broad Channel                               1\n",
       "Smith-9th St                                1\n",
       "Broadway-74th St                            1\n",
       "Bedford Park Blvd-Lehman College            1\n",
       "Far Rockaway-Mott Av                        1\n",
       "Westchester Square-East Tremont Av          1\n",
       "Aqueduct Racetrack                          1\n",
       "Botanic Gardens                             1\n",
       "York St                                     1\n",
       "Morris Park                                 1\n",
       "Harlem-148th St                             1\n",
       "Eastchester-Dyre Av                         1\n",
       "Parkchester-East 177th St                   1\n",
       "Neck Rd                                     1\n",
       "Name: Station Name, dtype: int64"
      ]
     },
     "execution_count": 18,
     "metadata": {},
     "output_type": "execute_result"
    }
   ],
   "source": [
    "df_locations['Station Name'].value_counts()"
   ]
  },
  {
   "cell_type": "code",
   "execution_count": 31,
   "metadata": {
    "collapsed": false
   },
   "outputs": [],
   "source": [
    "df_locations_upper = df_locations['Station Name'].str.upper()"
   ]
  },
  {
   "cell_type": "code",
   "execution_count": 27,
   "metadata": {
    "collapsed": true
   },
   "outputs": [],
   "source": [
    "lat_long = df[['Station Latitude','Station Longitude']].values"
   ]
  },
  {
   "cell_type": "code",
   "execution_count": 28,
   "metadata": {
    "collapsed": false
   },
   "outputs": [
    {
     "data": {
      "text/plain": [
       "array([[ 40.660397, -73.998091],\n",
       "       [ 40.660397, -73.998091],\n",
       "       [ 40.655144, -74.003549],\n",
       "       ..., \n",
       "       [ 40.903125, -73.85062 ],\n",
       "       [ 40.903125, -73.85062 ],\n",
       "       [ 40.903125, -73.85062 ]])"
      ]
     },
     "execution_count": 28,
     "metadata": {},
     "output_type": "execute_result"
    }
   ],
   "source": [
    "lat_long"
   ]
  },
  {
   "cell_type": "code",
   "execution_count": 29,
   "metadata": {
    "collapsed": true
   },
   "outputs": [],
   "source": [
    "gmaps.heatmap(lat_long)"
   ]
  },
  {
   "cell_type": "code",
   "execution_count": null,
   "metadata": {
    "collapsed": true
   },
   "outputs": [],
   "source": []
  }
 ],
 "metadata": {
  "kernelspec": {
   "display_name": "Python 2",
   "language": "python",
   "name": "python2"
  },
  "language_info": {
   "codemirror_mode": {
    "name": "ipython",
    "version": 2
   },
   "file_extension": ".py",
   "mimetype": "text/x-python",
   "name": "python",
   "nbconvert_exporter": "python",
   "pygments_lexer": "ipython2",
   "version": "2.7.11"
  }
 },
 "nbformat": 4,
 "nbformat_minor": 0
}
