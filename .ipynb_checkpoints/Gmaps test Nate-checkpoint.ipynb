{
 "cells": [
  {
   "cell_type": "code",
   "execution_count": 21,
   "metadata": {
    "collapsed": false
   },
   "outputs": [],
   "source": [
    "import gmaps\n",
    "import pandas as pd\n",
    "import numpy as np"
   ]
  },
  {
   "cell_type": "code",
   "execution_count": 22,
   "metadata": {
    "collapsed": false
   },
   "outputs": [],
   "source": [
    "data = [ [ 37.782551,-122.445368 ],\n",
    "         [ 37.782745,-122.444586 ],\n",
    "         [ 37.782842,-122.443858 ] ]\n",
    "\n",
    "gmaps.heatmap(data)"
   ]
  },
  {
   "cell_type": "code",
   "execution_count": 3,
   "metadata": {
    "collapsed": true
   },
   "outputs": [],
   "source": [
    "# jitter to add density for heat map"
   ]
  },
  {
   "cell_type": "code",
   "execution_count": 14,
   "metadata": {
    "collapsed": false
   },
   "outputs": [],
   "source": [
    "def Jitter(values, jitter=0.000001):\n",
    "    n = len(values)\n",
    "    return np.random.uniform(-jitter, +jitter) + values"
   ]
  },
  {
   "cell_type": "code",
   "execution_count": 15,
   "metadata": {
    "collapsed": true
   },
   "outputs": [],
   "source": [
    "df = pd.read_csv('NYC_Transit_Subway_Entrance_And_Exit_Data.csv')"
   ]
  },
  {
   "cell_type": "code",
   "execution_count": 16,
   "metadata": {
    "collapsed": false
   },
   "outputs": [
    {
     "data": {
      "text/html": [
       "<div>\n",
       "<table border=\"1\" class=\"dataframe\">\n",
       "  <thead>\n",
       "    <tr style=\"text-align: right;\">\n",
       "      <th></th>\n",
       "      <th>Division</th>\n",
       "      <th>Line</th>\n",
       "      <th>Station Name</th>\n",
       "      <th>Station Latitude</th>\n",
       "      <th>Station Longitude</th>\n",
       "      <th>Route1</th>\n",
       "      <th>Route2</th>\n",
       "      <th>Route3</th>\n",
       "      <th>Route4</th>\n",
       "      <th>Route5</th>\n",
       "      <th>...</th>\n",
       "      <th>ADA</th>\n",
       "      <th>ADA Notes</th>\n",
       "      <th>Free Crossover</th>\n",
       "      <th>North South Street</th>\n",
       "      <th>East West Street</th>\n",
       "      <th>Corner</th>\n",
       "      <th>Entrance Latitude</th>\n",
       "      <th>Entrance Longitude</th>\n",
       "      <th>Station Location</th>\n",
       "      <th>Entrance Location</th>\n",
       "    </tr>\n",
       "  </thead>\n",
       "  <tbody>\n",
       "    <tr>\n",
       "      <th>0</th>\n",
       "      <td>BMT</td>\n",
       "      <td>4 Avenue</td>\n",
       "      <td>25th St</td>\n",
       "      <td>40.660397</td>\n",
       "      <td>-73.998091</td>\n",
       "      <td>R</td>\n",
       "      <td>NaN</td>\n",
       "      <td>NaN</td>\n",
       "      <td>NaN</td>\n",
       "      <td>NaN</td>\n",
       "      <td>...</td>\n",
       "      <td>False</td>\n",
       "      <td>NaN</td>\n",
       "      <td>False</td>\n",
       "      <td>4th Ave</td>\n",
       "      <td>25th St</td>\n",
       "      <td>SE</td>\n",
       "      <td>40.660323</td>\n",
       "      <td>-73.997952</td>\n",
       "      <td>(40.660397, -73.998091)</td>\n",
       "      <td>(40.660323, -73.997952)</td>\n",
       "    </tr>\n",
       "    <tr>\n",
       "      <th>1</th>\n",
       "      <td>BMT</td>\n",
       "      <td>4 Avenue</td>\n",
       "      <td>25th St</td>\n",
       "      <td>40.660397</td>\n",
       "      <td>-73.998091</td>\n",
       "      <td>R</td>\n",
       "      <td>NaN</td>\n",
       "      <td>NaN</td>\n",
       "      <td>NaN</td>\n",
       "      <td>NaN</td>\n",
       "      <td>...</td>\n",
       "      <td>False</td>\n",
       "      <td>NaN</td>\n",
       "      <td>False</td>\n",
       "      <td>4th Ave</td>\n",
       "      <td>25th St</td>\n",
       "      <td>SW</td>\n",
       "      <td>40.660489</td>\n",
       "      <td>-73.998220</td>\n",
       "      <td>(40.660397, -73.998091)</td>\n",
       "      <td>(40.660489, -73.998220)</td>\n",
       "    </tr>\n",
       "    <tr>\n",
       "      <th>2</th>\n",
       "      <td>BMT</td>\n",
       "      <td>4 Avenue</td>\n",
       "      <td>36th St</td>\n",
       "      <td>40.655144</td>\n",
       "      <td>-74.003549</td>\n",
       "      <td>N</td>\n",
       "      <td>R</td>\n",
       "      <td>NaN</td>\n",
       "      <td>NaN</td>\n",
       "      <td>NaN</td>\n",
       "      <td>...</td>\n",
       "      <td>False</td>\n",
       "      <td>NaN</td>\n",
       "      <td>True</td>\n",
       "      <td>4th Ave</td>\n",
       "      <td>36th St</td>\n",
       "      <td>NW</td>\n",
       "      <td>40.654490</td>\n",
       "      <td>-74.004499</td>\n",
       "      <td>(40.655144, -74.003549)</td>\n",
       "      <td>(40.654490, -74.004499)</td>\n",
       "    </tr>\n",
       "    <tr>\n",
       "      <th>3</th>\n",
       "      <td>BMT</td>\n",
       "      <td>4 Avenue</td>\n",
       "      <td>36th St</td>\n",
       "      <td>40.655144</td>\n",
       "      <td>-74.003549</td>\n",
       "      <td>N</td>\n",
       "      <td>R</td>\n",
       "      <td>NaN</td>\n",
       "      <td>NaN</td>\n",
       "      <td>NaN</td>\n",
       "      <td>...</td>\n",
       "      <td>False</td>\n",
       "      <td>NaN</td>\n",
       "      <td>True</td>\n",
       "      <td>4th Ave</td>\n",
       "      <td>36th St</td>\n",
       "      <td>NE</td>\n",
       "      <td>40.654365</td>\n",
       "      <td>-74.004113</td>\n",
       "      <td>(40.655144, -74.003549)</td>\n",
       "      <td>(40.654365, -74.004113)</td>\n",
       "    </tr>\n",
       "    <tr>\n",
       "      <th>4</th>\n",
       "      <td>BMT</td>\n",
       "      <td>4 Avenue</td>\n",
       "      <td>36th St</td>\n",
       "      <td>40.655144</td>\n",
       "      <td>-74.003549</td>\n",
       "      <td>N</td>\n",
       "      <td>R</td>\n",
       "      <td>NaN</td>\n",
       "      <td>NaN</td>\n",
       "      <td>NaN</td>\n",
       "      <td>...</td>\n",
       "      <td>False</td>\n",
       "      <td>NaN</td>\n",
       "      <td>True</td>\n",
       "      <td>4th Ave</td>\n",
       "      <td>36th St</td>\n",
       "      <td>NW</td>\n",
       "      <td>40.654676</td>\n",
       "      <td>-74.004306</td>\n",
       "      <td>(40.655144, -74.003549)</td>\n",
       "      <td>(40.654676, -74.004306)</td>\n",
       "    </tr>\n",
       "  </tbody>\n",
       "</table>\n",
       "<p>5 rows × 32 columns</p>\n",
       "</div>"
      ],
      "text/plain": [
       "  Division      Line Station Name  Station Latitude  Station Longitude Route1  \\\n",
       "0      BMT  4 Avenue      25th St         40.660397         -73.998091      R   \n",
       "1      BMT  4 Avenue      25th St         40.660397         -73.998091      R   \n",
       "2      BMT  4 Avenue      36th St         40.655144         -74.003549      N   \n",
       "3      BMT  4 Avenue      36th St         40.655144         -74.003549      N   \n",
       "4      BMT  4 Avenue      36th St         40.655144         -74.003549      N   \n",
       "\n",
       "  Route2 Route3 Route4 Route5           ...               ADA ADA Notes  \\\n",
       "0    NaN    NaN    NaN    NaN           ...             False       NaN   \n",
       "1    NaN    NaN    NaN    NaN           ...             False       NaN   \n",
       "2      R    NaN    NaN    NaN           ...             False       NaN   \n",
       "3      R    NaN    NaN    NaN           ...             False       NaN   \n",
       "4      R    NaN    NaN    NaN           ...             False       NaN   \n",
       "\n",
       "   Free Crossover  North South Street  East West Street  Corner  \\\n",
       "0           False             4th Ave           25th St      SE   \n",
       "1           False             4th Ave           25th St      SW   \n",
       "2            True             4th Ave           36th St      NW   \n",
       "3            True             4th Ave           36th St      NE   \n",
       "4            True             4th Ave           36th St      NW   \n",
       "\n",
       "  Entrance Latitude Entrance Longitude         Station Location  \\\n",
       "0         40.660323         -73.997952  (40.660397, -73.998091)   \n",
       "1         40.660489         -73.998220  (40.660397, -73.998091)   \n",
       "2         40.654490         -74.004499  (40.655144, -74.003549)   \n",
       "3         40.654365         -74.004113  (40.655144, -74.003549)   \n",
       "4         40.654676         -74.004306  (40.655144, -74.003549)   \n",
       "\n",
       "         Entrance Location  \n",
       "0  (40.660323, -73.997952)  \n",
       "1  (40.660489, -73.998220)  \n",
       "2  (40.654490, -74.004499)  \n",
       "3  (40.654365, -74.004113)  \n",
       "4  (40.654676, -74.004306)  \n",
       "\n",
       "[5 rows x 32 columns]"
      ]
     },
     "execution_count": 16,
     "metadata": {},
     "output_type": "execute_result"
    }
   ],
   "source": [
    "df.head()"
   ]
  },
  {
   "cell_type": "code",
   "execution_count": 17,
   "metadata": {
    "collapsed": true
   },
   "outputs": [],
   "source": [
    "lat_long = df[['Station Latitude','Station Longitude']].values"
   ]
  },
  {
   "cell_type": "code",
   "execution_count": 18,
   "metadata": {
    "collapsed": false
   },
   "outputs": [
    {
     "data": {
      "text/plain": [
       "array([[ 40.660397, -73.998091],\n",
       "       [ 40.660397, -73.998091],\n",
       "       [ 40.655144, -74.003549],\n",
       "       ..., \n",
       "       [ 40.903125, -73.85062 ],\n",
       "       [ 40.903125, -73.85062 ],\n",
       "       [ 40.903125, -73.85062 ]])"
      ]
     },
     "execution_count": 18,
     "metadata": {},
     "output_type": "execute_result"
    }
   ],
   "source": [
    "lat_long"
   ]
  },
  {
   "cell_type": "code",
   "execution_count": 10,
   "metadata": {
    "collapsed": true
   },
   "outputs": [],
   "source": [
    "gmaps.heatmap(lat_long)"
   ]
  },
  {
   "cell_type": "code",
   "execution_count": 19,
   "metadata": {
    "collapsed": false
   },
   "outputs": [],
   "source": [
    "jitter_lat_long = Jitter(lat_long)"
   ]
  },
  {
   "cell_type": "code",
   "execution_count": 20,
   "metadata": {
    "collapsed": true
   },
   "outputs": [],
   "source": [
    "gmaps.heatmap(jitter_lat_long)"
   ]
  },
  {
   "cell_type": "code",
   "execution_count": null,
   "metadata": {
    "collapsed": true
   },
   "outputs": [],
   "source": []
  }
 ],
 "metadata": {
  "kernelspec": {
   "display_name": "Python 2",
   "language": "python",
   "name": "python2"
  },
  "language_info": {
   "codemirror_mode": {
    "name": "ipython",
    "version": 2
   },
   "file_extension": ".py",
   "mimetype": "text/x-python",
   "name": "python",
   "nbconvert_exporter": "python",
   "pygments_lexer": "ipython2",
   "version": "2.7.11"
  }
 },
 "nbformat": 4,
 "nbformat_minor": 0
}
