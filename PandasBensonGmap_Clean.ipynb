{
 "cells": [
  {
   "cell_type": "code",
   "execution_count": 6,
   "metadata": {
    "collapsed": true
   },
   "outputs": [],
   "source": [
    "import pandas as pd\n",
    "from __future__ import division\n",
    "import csv\n",
    "from datetime import datetime\n",
    "from collections import Counter\n",
    "import gmaps\n",
    "import numpy as np\n",
    "import matplotlib.pyplot as plt\n",
    "import math"
   ]
  },
  {
   "cell_type": "markdown",
   "metadata": {},
   "source": [
    "The function below takes 3 arguments:\n",
    "- Coords: this is a list of the lattitude/longitude coordinates of the stations you would like to map\n",
    "- dtotal: This is the delta total for that station, which determines the size of the heat blob\n",
    "- scale: This is an arbitrary number selected to help scale down the blob density for a good visual representation on the heatmap"
   ]
  },
  {
   "cell_type": "code",
   "execution_count": 153,
   "metadata": {
    "collapsed": false
   },
   "outputs": [],
   "source": [
    "def ScaleCoordinates(coords, dtotal, scale=250):\n",
    "    new_array = []\n",
    "    for i in range(len(dtotal)):\n",
    "        new_array = new_array + ([coords[i]] * (dtotal[i]/scale)**2 )\n",
    "    return new_array"
   ]
  },
  {
   "cell_type": "markdown",
   "metadata": {},
   "source": [
    "This next function will add random jitter to new coordinates.  The reason for this is that due to the way the gmap api is setup, if the exact station coordinates are stacked directly on top of each other, they will display a heat blog well.  The jitter allows us to create a density blog around the station"
   ]
  },
  {
   "cell_type": "code",
   "execution_count": 158,
   "metadata": {
    "collapsed": true
   },
   "outputs": [],
   "source": [
    "def Jitter(arr, jitter=0.0005):\n",
    "    jitter_list = []\n",
    "    for row in arr:\n",
    "        jitter_list = jitter_list + ([[row[0] + np.random.normal(-jitter, +jitter), row[1] +np.random.uniform(-jitter, +jitter)]])\n",
    "    return jitter_list"
   ]
  },
  {
   "cell_type": "markdown",
   "metadata": {},
   "source": [
    "As an example if, if you would like to obtain the list of scaled/jittered coordinates, you would do the following:"
   ]
  },
  {
   "cell_type": "code",
   "execution_count": 159,
   "metadata": {
    "collapsed": false,
    "scrolled": true
   },
   "outputs": [
    {
     "name": "stdout",
     "output_type": "stream",
     "text": [
      "[[40.754222, -73.984569], [40.754222, -73.984569], [40.754222, -73.984569], [40.754222, -73.984569], [40.754222, -73.984569]]\n"
     ]
    }
   ],
   "source": [
    "monday_scaled_coordinates = ScaleCoordinates(monday_coords,monday_dtotal)\n",
    "monday_jitter_coords = Jitter(monday_scaled_coordinates)"
   ]
  },
  {
   "cell_type": "markdown",
   "metadata": {
    "collapsed": true
   },
   "source": [
    "Then use the gmaps api to display the heatmap"
   ]
  },
  {
   "cell_type": "code",
   "execution_count": 165,
   "metadata": {
    "collapsed": true
   },
   "outputs": [],
   "source": [
    "gmaps.heatmap(sunday_jitter_coords)"
   ]
  },
  {
   "cell_type": "code",
   "execution_count": 161,
   "metadata": {
    "collapsed": false
   },
   "outputs": [],
   "source": [
    "gmaps.heatmap(jitter_coords)"
   ]
  }
 ],
 "metadata": {
  "kernelspec": {
   "display_name": "Python 2",
   "language": "python",
   "name": "python2"
  },
  "language_info": {
   "codemirror_mode": {
    "name": "ipython",
    "version": 2
   },
   "file_extension": ".py",
   "mimetype": "text/x-python",
   "name": "python",
   "nbconvert_exporter": "python",
   "pygments_lexer": "ipython2",
   "version": "2.7.11"
  }
 },
 "nbformat": 4,
 "nbformat_minor": 0
}
